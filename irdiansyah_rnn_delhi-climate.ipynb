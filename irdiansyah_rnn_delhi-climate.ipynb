{
 "cells": [
  {
   "cell_type": "markdown",
   "id": "2c23bba6",
   "metadata": {},
   "source": [
    "# Learn by Building: Time Series Forecasting with PyTorch\n",
    "\n",
    "#### Irdiansyah\n",
    "\n",
    "Pada LBB Time Series Forecasting with PyTorch ini, saya (Irdiansyah) akan menggunakan dataset [Weather Forecasting for Indian climate](https://www.kaggle.com/datasets/sumanthvrao/daily-climate-time-series-data). Dataset ini menyediakan informasi harian terkait climate di Kota Delhi, India dari tanggal 1 Januari 2013 hingga 24 April 2017. Ada 4 parameter (kolom data) yang tersedia yaitu meantemp, humidity, wind_speed, meanpressure. Kemudian, dataset ini juga sudah dibagi menjadi data training dan data test."
   ]
  },
  {
   "cell_type": "markdown",
   "id": "7a3bb789",
   "metadata": {},
   "source": [
    "## PyTorch Workflow & Implementing RNN with PyTorch\n",
    "\n",
    "Pada PyTorch terdapat 4 langkah utama untuk mengerjakan sebuah kasus machine learning, yaitu:\n",
    "- Persiapan data\n",
    "- Pembuatan arsitektur\n",
    "- Persiapan training\n",
    "- Training loop\n",
    "\n",
    "Training loop ini digunakan karena arsitektur yang kita bangun merupakan proses RNN 1x feed forward dan 1x backpropagation, sehingga kita perlu membuat langkah perulangan untuk melakukan training dengan epoch yang banyak."
   ]
  },
  {
   "cell_type": "code",
   "execution_count": 1391,
   "id": "88257764",
   "metadata": {
    "ExecuteTime": {
     "end_time": "2023-02-19T09:04:01.667396Z",
     "start_time": "2023-02-19T09:03:57.234985Z"
    }
   },
   "outputs": [],
   "source": [
    "# import library dasar\n",
    "import pandas as pd\n",
    "import numpy as np\n",
    "import matplotlib.pyplot as plt"
   ]
  },
  {
   "cell_type": "markdown",
   "id": "c66ac798",
   "metadata": {},
   "source": [
    "### Persiapan data\n",
    "\n",
    "Seperti yang sudah dijelaskan sebelumnya dataset ini sudah dipisah menjadi data train dan data test biasa. Ada 1462 baris data di data train dan 114 baris data di data test. Dari total 1576 baris data itu 93% merupakan data train dan 7% nya dijadikan data test."
   ]
  },
  {
   "cell_type": "code",
   "execution_count": 1392,
   "id": "34a29301",
   "metadata": {},
   "outputs": [],
   "source": [
    "# baca kembali dataset yang digunakan\n",
    "train_all = pd.read_csv(\"delhi-climate/DailyDelhiClimateTrain.csv\") #93%\n",
    "test_all = pd.read_csv(\"delhi-climate/DailyDelhiClimateTest.csv\") #7%"
   ]
  },
  {
   "cell_type": "markdown",
   "id": "a3bd2501",
   "metadata": {},
   "source": [
    "Dari 4 parameter yang disediakan saya akan mencoba forecasting meantemp saja, data ini akan saya pisahkan dengan cara sub setting"
   ]
  },
  {
   "cell_type": "code",
   "execution_count": 1393,
   "id": "6708e1b3",
   "metadata": {},
   "outputs": [],
   "source": [
    "train_df = train_all[[\"date\", \"meantemp\"]]"
   ]
  },
  {
   "cell_type": "code",
   "execution_count": 1394,
   "id": "ab2afb5d",
   "metadata": {},
   "outputs": [],
   "source": [
    "test_df = test_all[[\"date\", \"meantemp\"]]"
   ]
  },
  {
   "cell_type": "markdown",
   "id": "058a8834",
   "metadata": {},
   "source": [
    "#### Cek data\n",
    "\n",
    "Untuk memastikan data bisa digunakan, kita perlu cek tipe data, cek data yang Null, cek jumlah baris yang tersedia denga cara berikut:  "
   ]
  },
  {
   "cell_type": "code",
   "execution_count": 1395,
   "id": "5abbb8bd",
   "metadata": {
    "scrolled": true
   },
   "outputs": [
    {
     "name": "stdout",
     "output_type": "stream",
     "text": [
      "<class 'pandas.core.frame.DataFrame'>\n",
      "RangeIndex: 1462 entries, 0 to 1461\n",
      "Data columns (total 2 columns):\n",
      " #   Column    Non-Null Count  Dtype  \n",
      "---  ------    --------------  -----  \n",
      " 0   date      1462 non-null   object \n",
      " 1   meantemp  1462 non-null   float64\n",
      "dtypes: float64(1), object(1)\n",
      "memory usage: 23.0+ KB\n"
     ]
    }
   ],
   "source": [
    "train_df.info()"
   ]
  },
  {
   "cell_type": "code",
   "execution_count": 1396,
   "id": "4bd57329",
   "metadata": {
    "scrolled": true
   },
   "outputs": [
    {
     "name": "stdout",
     "output_type": "stream",
     "text": [
      "<class 'pandas.core.frame.DataFrame'>\n",
      "RangeIndex: 114 entries, 0 to 113\n",
      "Data columns (total 2 columns):\n",
      " #   Column    Non-Null Count  Dtype  \n",
      "---  ------    --------------  -----  \n",
      " 0   date      114 non-null    object \n",
      " 1   meantemp  114 non-null    float64\n",
      "dtypes: float64(1), object(1)\n",
      "memory usage: 1.9+ KB\n"
     ]
    }
   ],
   "source": [
    "test_df.info()"
   ]
  },
  {
   "cell_type": "markdown",
   "id": "a4ca546f",
   "metadata": {},
   "source": [
    "Dari data di atas diketahui tidak ada data yang null (kosong), kemudian tipe data \"date\" kurang tepat. Tipe data \"date\" akan diubah dari tipe data object ke datetime64."
   ]
  },
  {
   "cell_type": "code",
   "execution_count": 1397,
   "id": "dcb70cca",
   "metadata": {
    "scrolled": true
   },
   "outputs": [
    {
     "name": "stderr",
     "output_type": "stream",
     "text": [
      "/var/folders/x_/1h27z5411yggd3zgcv_9_cmh0000gn/T/ipykernel_1089/2520553436.py:1: SettingWithCopyWarning: \n",
      "A value is trying to be set on a copy of a slice from a DataFrame.\n",
      "Try using .loc[row_indexer,col_indexer] = value instead\n",
      "\n",
      "See the caveats in the documentation: https://pandas.pydata.org/pandas-docs/stable/user_guide/indexing.html#returning-a-view-versus-a-copy\n",
      "  train_df[\"date\"] = train_df[\"date\"].astype(\"datetime64\")\n"
     ]
    }
   ],
   "source": [
    "train_df[\"date\"] = train_df[\"date\"].astype(\"datetime64\")"
   ]
  },
  {
   "cell_type": "markdown",
   "id": "d28f2136",
   "metadata": {},
   "source": [
    "Kemudian mengubah format waktunya "
   ]
  },
  {
   "cell_type": "code",
   "execution_count": 1398,
   "id": "a2e7f3c1",
   "metadata": {},
   "outputs": [
    {
     "name": "stderr",
     "output_type": "stream",
     "text": [
      "/var/folders/x_/1h27z5411yggd3zgcv_9_cmh0000gn/T/ipykernel_1089/3338144497.py:1: SettingWithCopyWarning: \n",
      "A value is trying to be set on a copy of a slice from a DataFrame.\n",
      "Try using .loc[row_indexer,col_indexer] = value instead\n",
      "\n",
      "See the caveats in the documentation: https://pandas.pydata.org/pandas-docs/stable/user_guide/indexing.html#returning-a-view-versus-a-copy\n",
      "  train_df[\"date\"] = pd.to_datetime(train_df[\"date\"], format = \"%m/%d/%Y\")\n"
     ]
    }
   ],
   "source": [
    "train_df[\"date\"] = pd.to_datetime(train_df[\"date\"], format = \"%m/%d/%Y\")"
   ]
  },
  {
   "cell_type": "code",
   "execution_count": 1399,
   "id": "94f57e3c",
   "metadata": {
    "scrolled": true
   },
   "outputs": [
    {
     "data": {
      "text/plain": [
       "date        datetime64[ns]\n",
       "meantemp           float64\n",
       "dtype: object"
      ]
     },
     "execution_count": 1399,
     "metadata": {},
     "output_type": "execute_result"
    }
   ],
   "source": [
    "train_df.dtypes"
   ]
  },
  {
   "cell_type": "code",
   "execution_count": 1400,
   "id": "c246cf10",
   "metadata": {
    "scrolled": true
   },
   "outputs": [
    {
     "name": "stderr",
     "output_type": "stream",
     "text": [
      "/var/folders/x_/1h27z5411yggd3zgcv_9_cmh0000gn/T/ipykernel_1089/2622443765.py:1: SettingWithCopyWarning: \n",
      "A value is trying to be set on a copy of a slice from a DataFrame.\n",
      "Try using .loc[row_indexer,col_indexer] = value instead\n",
      "\n",
      "See the caveats in the documentation: https://pandas.pydata.org/pandas-docs/stable/user_guide/indexing.html#returning-a-view-versus-a-copy\n",
      "  test_df[\"date\"] = test_df[\"date\"].astype(\"datetime64\")\n"
     ]
    }
   ],
   "source": [
    "test_df[\"date\"] = test_df[\"date\"].astype(\"datetime64\")"
   ]
  },
  {
   "cell_type": "code",
   "execution_count": 1401,
   "id": "35e2fae2",
   "metadata": {},
   "outputs": [
    {
     "data": {
      "text/plain": [
       "date        datetime64[ns]\n",
       "meantemp           float64\n",
       "dtype: object"
      ]
     },
     "execution_count": 1401,
     "metadata": {},
     "output_type": "execute_result"
    }
   ],
   "source": [
    "test_df.dtypes"
   ]
  },
  {
   "cell_type": "markdown",
   "id": "acfd7784",
   "metadata": {},
   "source": [
    "#### Cek kesinambungan data\n",
    "\n",
    "Untuk memastikan data train dan data test tidak bersilangan. Dilakukan cek data di bagian tail dan head."
   ]
  },
  {
   "cell_type": "code",
   "execution_count": 1402,
   "id": "920b5011",
   "metadata": {
    "scrolled": false
   },
   "outputs": [
    {
     "data": {
      "text/html": [
       "<div>\n",
       "<style scoped>\n",
       "    .dataframe tbody tr th:only-of-type {\n",
       "        vertical-align: middle;\n",
       "    }\n",
       "\n",
       "    .dataframe tbody tr th {\n",
       "        vertical-align: top;\n",
       "    }\n",
       "\n",
       "    .dataframe thead th {\n",
       "        text-align: right;\n",
       "    }\n",
       "</style>\n",
       "<table border=\"1\" class=\"dataframe\">\n",
       "  <thead>\n",
       "    <tr style=\"text-align: right;\">\n",
       "      <th></th>\n",
       "      <th>date</th>\n",
       "      <th>meantemp</th>\n",
       "    </tr>\n",
       "  </thead>\n",
       "  <tbody>\n",
       "    <tr>\n",
       "      <th>1457</th>\n",
       "      <td>2016-12-28</td>\n",
       "      <td>17.217391</td>\n",
       "    </tr>\n",
       "    <tr>\n",
       "      <th>1458</th>\n",
       "      <td>2016-12-29</td>\n",
       "      <td>15.238095</td>\n",
       "    </tr>\n",
       "    <tr>\n",
       "      <th>1459</th>\n",
       "      <td>2016-12-30</td>\n",
       "      <td>14.095238</td>\n",
       "    </tr>\n",
       "    <tr>\n",
       "      <th>1460</th>\n",
       "      <td>2016-12-31</td>\n",
       "      <td>15.052632</td>\n",
       "    </tr>\n",
       "    <tr>\n",
       "      <th>1461</th>\n",
       "      <td>2017-01-01</td>\n",
       "      <td>10.000000</td>\n",
       "    </tr>\n",
       "  </tbody>\n",
       "</table>\n",
       "</div>"
      ],
      "text/plain": [
       "           date   meantemp\n",
       "1457 2016-12-28  17.217391\n",
       "1458 2016-12-29  15.238095\n",
       "1459 2016-12-30  14.095238\n",
       "1460 2016-12-31  15.052632\n",
       "1461 2017-01-01  10.000000"
      ]
     },
     "execution_count": 1402,
     "metadata": {},
     "output_type": "execute_result"
    }
   ],
   "source": [
    "train_df.tail()"
   ]
  },
  {
   "cell_type": "code",
   "execution_count": 1403,
   "id": "313cbf9f",
   "metadata": {
    "scrolled": true
   },
   "outputs": [
    {
     "data": {
      "text/html": [
       "<div>\n",
       "<style scoped>\n",
       "    .dataframe tbody tr th:only-of-type {\n",
       "        vertical-align: middle;\n",
       "    }\n",
       "\n",
       "    .dataframe tbody tr th {\n",
       "        vertical-align: top;\n",
       "    }\n",
       "\n",
       "    .dataframe thead th {\n",
       "        text-align: right;\n",
       "    }\n",
       "</style>\n",
       "<table border=\"1\" class=\"dataframe\">\n",
       "  <thead>\n",
       "    <tr style=\"text-align: right;\">\n",
       "      <th></th>\n",
       "      <th>date</th>\n",
       "      <th>meantemp</th>\n",
       "    </tr>\n",
       "  </thead>\n",
       "  <tbody>\n",
       "    <tr>\n",
       "      <th>0</th>\n",
       "      <td>2017-01-01</td>\n",
       "      <td>15.913043</td>\n",
       "    </tr>\n",
       "    <tr>\n",
       "      <th>1</th>\n",
       "      <td>2017-01-02</td>\n",
       "      <td>18.500000</td>\n",
       "    </tr>\n",
       "    <tr>\n",
       "      <th>2</th>\n",
       "      <td>2017-01-03</td>\n",
       "      <td>17.111111</td>\n",
       "    </tr>\n",
       "    <tr>\n",
       "      <th>3</th>\n",
       "      <td>2017-01-04</td>\n",
       "      <td>18.700000</td>\n",
       "    </tr>\n",
       "    <tr>\n",
       "      <th>4</th>\n",
       "      <td>2017-01-05</td>\n",
       "      <td>18.388889</td>\n",
       "    </tr>\n",
       "  </tbody>\n",
       "</table>\n",
       "</div>"
      ],
      "text/plain": [
       "        date   meantemp\n",
       "0 2017-01-01  15.913043\n",
       "1 2017-01-02  18.500000\n",
       "2 2017-01-03  17.111111\n",
       "3 2017-01-04  18.700000\n",
       "4 2017-01-05  18.388889"
      ]
     },
     "execution_count": 1403,
     "metadata": {},
     "output_type": "execute_result"
    }
   ],
   "source": [
    "test_df.head()"
   ]
  },
  {
   "cell_type": "markdown",
   "id": "aa4d0470",
   "metadata": {},
   "source": [
    "Dapat diketahui data terakhir dari data train dengan data awal dari data test sama-sama ada date Januari 2017. Sehingga salah satunya harus dihapus, khususnya di data train, supaya tidak terjadi kerancuan."
   ]
  },
  {
   "cell_type": "code",
   "execution_count": 1404,
   "id": "b9d01c91",
   "metadata": {
    "scrolled": true
   },
   "outputs": [],
   "source": [
    "train_df = train_df.drop(1461)"
   ]
  },
  {
   "cell_type": "markdown",
   "id": "af5d6128",
   "metadata": {},
   "source": [
    "Mari kita cek kembali kesinambungan datanya"
   ]
  },
  {
   "cell_type": "code",
   "execution_count": 1405,
   "id": "eb2a5cbc",
   "metadata": {},
   "outputs": [
    {
     "data": {
      "text/html": [
       "<div>\n",
       "<style scoped>\n",
       "    .dataframe tbody tr th:only-of-type {\n",
       "        vertical-align: middle;\n",
       "    }\n",
       "\n",
       "    .dataframe tbody tr th {\n",
       "        vertical-align: top;\n",
       "    }\n",
       "\n",
       "    .dataframe thead th {\n",
       "        text-align: right;\n",
       "    }\n",
       "</style>\n",
       "<table border=\"1\" class=\"dataframe\">\n",
       "  <thead>\n",
       "    <tr style=\"text-align: right;\">\n",
       "      <th></th>\n",
       "      <th>date</th>\n",
       "      <th>meantemp</th>\n",
       "    </tr>\n",
       "  </thead>\n",
       "  <tbody>\n",
       "    <tr>\n",
       "      <th>1456</th>\n",
       "      <td>2016-12-27</td>\n",
       "      <td>16.850000</td>\n",
       "    </tr>\n",
       "    <tr>\n",
       "      <th>1457</th>\n",
       "      <td>2016-12-28</td>\n",
       "      <td>17.217391</td>\n",
       "    </tr>\n",
       "    <tr>\n",
       "      <th>1458</th>\n",
       "      <td>2016-12-29</td>\n",
       "      <td>15.238095</td>\n",
       "    </tr>\n",
       "    <tr>\n",
       "      <th>1459</th>\n",
       "      <td>2016-12-30</td>\n",
       "      <td>14.095238</td>\n",
       "    </tr>\n",
       "    <tr>\n",
       "      <th>1460</th>\n",
       "      <td>2016-12-31</td>\n",
       "      <td>15.052632</td>\n",
       "    </tr>\n",
       "  </tbody>\n",
       "</table>\n",
       "</div>"
      ],
      "text/plain": [
       "           date   meantemp\n",
       "1456 2016-12-27  16.850000\n",
       "1457 2016-12-28  17.217391\n",
       "1458 2016-12-29  15.238095\n",
       "1459 2016-12-30  14.095238\n",
       "1460 2016-12-31  15.052632"
      ]
     },
     "execution_count": 1405,
     "metadata": {},
     "output_type": "execute_result"
    }
   ],
   "source": [
    "train_df.tail()"
   ]
  },
  {
   "cell_type": "code",
   "execution_count": 1406,
   "id": "fbf0e610",
   "metadata": {
    "scrolled": true
   },
   "outputs": [
    {
     "data": {
      "text/html": [
       "<div>\n",
       "<style scoped>\n",
       "    .dataframe tbody tr th:only-of-type {\n",
       "        vertical-align: middle;\n",
       "    }\n",
       "\n",
       "    .dataframe tbody tr th {\n",
       "        vertical-align: top;\n",
       "    }\n",
       "\n",
       "    .dataframe thead th {\n",
       "        text-align: right;\n",
       "    }\n",
       "</style>\n",
       "<table border=\"1\" class=\"dataframe\">\n",
       "  <thead>\n",
       "    <tr style=\"text-align: right;\">\n",
       "      <th></th>\n",
       "      <th>date</th>\n",
       "      <th>meantemp</th>\n",
       "    </tr>\n",
       "  </thead>\n",
       "  <tbody>\n",
       "    <tr>\n",
       "      <th>0</th>\n",
       "      <td>2017-01-01</td>\n",
       "      <td>15.913043</td>\n",
       "    </tr>\n",
       "    <tr>\n",
       "      <th>1</th>\n",
       "      <td>2017-01-02</td>\n",
       "      <td>18.500000</td>\n",
       "    </tr>\n",
       "    <tr>\n",
       "      <th>2</th>\n",
       "      <td>2017-01-03</td>\n",
       "      <td>17.111111</td>\n",
       "    </tr>\n",
       "    <tr>\n",
       "      <th>3</th>\n",
       "      <td>2017-01-04</td>\n",
       "      <td>18.700000</td>\n",
       "    </tr>\n",
       "    <tr>\n",
       "      <th>4</th>\n",
       "      <td>2017-01-05</td>\n",
       "      <td>18.388889</td>\n",
       "    </tr>\n",
       "  </tbody>\n",
       "</table>\n",
       "</div>"
      ],
      "text/plain": [
       "        date   meantemp\n",
       "0 2017-01-01  15.913043\n",
       "1 2017-01-02  18.500000\n",
       "2 2017-01-03  17.111111\n",
       "3 2017-01-04  18.700000\n",
       "4 2017-01-05  18.388889"
      ]
     },
     "execution_count": 1406,
     "metadata": {},
     "output_type": "execute_result"
    }
   ],
   "source": [
    "test_df.head()"
   ]
  },
  {
   "cell_type": "markdown",
   "id": "f1e653b0",
   "metadata": {},
   "source": [
    "Dari data di atas diketahui bahwa data train berakhir di Desember 2016, kemudian data test dimulai di Januari 2017. Artinya data train dan test sudah berkesinambungan. "
   ]
  },
  {
   "cell_type": "markdown",
   "id": "62bb8572",
   "metadata": {},
   "source": [
    "#### Data Scaling"
   ]
  },
  {
   "cell_type": "code",
   "execution_count": 1407,
   "id": "e2adcfe9",
   "metadata": {},
   "outputs": [],
   "source": [
    "# set kolom waktu menjadi index\n",
    "train_df = train_df.set_index(\"date\")\n",
    "test_df = test_df.set_index(\"date\")"
   ]
  },
  {
   "cell_type": "code",
   "execution_count": 1408,
   "id": "50760df6",
   "metadata": {},
   "outputs": [
    {
     "data": {
      "text/plain": [
       "6.0"
      ]
     },
     "execution_count": 1408,
     "metadata": {},
     "output_type": "execute_result"
    }
   ],
   "source": [
    "min(train_df[\"meantemp\"])"
   ]
  },
  {
   "cell_type": "code",
   "execution_count": 1409,
   "id": "247179ca",
   "metadata": {},
   "outputs": [
    {
     "data": {
      "text/plain": [
       "38.71428571428572"
      ]
     },
     "execution_count": 1409,
     "metadata": {},
     "output_type": "execute_result"
    }
   ],
   "source": [
    "max(train_df[\"meantemp\"])"
   ]
  },
  {
   "cell_type": "code",
   "execution_count": 1410,
   "id": "6c9a1a1c",
   "metadata": {
    "scrolled": false
   },
   "outputs": [
    {
     "data": {
      "text/plain": [
       "<AxesSubplot: xlabel='date'>"
      ]
     },
     "execution_count": 1410,
     "metadata": {},
     "output_type": "execute_result"
    },
    {
     "data": {
      "image/png": "[encoded data removed]",
      "text/plain": [
       "<Figure size 640x480 with 1 Axes>"
      ]
     },
     "metadata": {},
     "output_type": "display_data"
    }
   ],
   "source": [
    "train_df[\"meantemp\"].plot()"
   ]
  },
  {
   "cell_type": "code",
   "execution_count": 1411,
   "id": "9ac90c04",
   "metadata": {},
   "outputs": [
    {
     "data": {
      "text/plain": [
       "<AxesSubplot: xlabel='date'>"
      ]
     },
     "execution_count": 1411,
     "metadata": {},
     "output_type": "execute_result"
    },
    {
     "data": {
      "image/png": "[encoded data removed]",
      "text/plain": [
       "<Figure size 640x480 with 1 Axes>"
      ]
     },
     "metadata": {},
     "output_type": "display_data"
    }
   ],
   "source": [
    "test_df[\"meantemp\"].plot()"
   ]
  },
  {
   "cell_type": "markdown",
   "id": "d8e43dae",
   "metadata": {},
   "source": [
    "Pada kasus time series, penggunaan scaling dapat meningkatkan performa model serta mempercepat waktu komputasi, oleh karena itu kita akan menggunakan `StandardScaler` dari sklearn yang melakukan scaling berdasarkan nilai z-score."
   ]
  },
  {
   "cell_type": "code",
   "execution_count": 1412,
   "id": "be23045d",
   "metadata": {
    "ExecuteTime": {
     "end_time": "2023-02-19T08:06:48.900663Z",
     "start_time": "2023-02-19T08:06:48.888337Z"
    }
   },
   "outputs": [],
   "source": [
    "from sklearn.preprocessing import StandardScaler"
   ]
  },
  {
   "cell_type": "code",
   "execution_count": 1413,
   "id": "e33d0ac3",
   "metadata": {},
   "outputs": [],
   "source": [
    "# membuat object scaler\n",
    "scaler = StandardScaler()\n",
    "\n",
    "# melakukan scaling terhadap data train\n",
    "train_scale = scaler.fit_transform(train_df)\n",
    "\n",
    "# melakukan scaling terhadap data test\n",
    "test_scale = scaler.transform(test_df)"
   ]
  },
  {
   "cell_type": "code",
   "execution_count": 1414,
   "id": "1d8ab2df",
   "metadata": {},
   "outputs": [
    {
     "data": {
      "text/plain": [
       "array([[-2.1134429 ],\n",
       "       [-2.46781583],\n",
       "       [-2.49961853],\n",
       "       ...,\n",
       "       [-1.39950477],\n",
       "       [-1.55527309],\n",
       "       [-1.42478296]])"
      ]
     },
     "execution_count": 1414,
     "metadata": {},
     "output_type": "execute_result"
    }
   ],
   "source": [
    "train_scale"
   ]
  },
  {
   "cell_type": "markdown",
   "id": "118d3521",
   "metadata": {},
   "source": [
    "PyTorch membutuhkan data dalam bentuk tensor untuk dimasukkan ke dalam model, selain itu untuk kasus ini kita membutuhkan data dengan tipe float. Selain itu untuk proses selanjutnya, kita perlu membentuk data ke tensor 1D."
   ]
  },
  {
   "cell_type": "code",
   "execution_count": 1415,
   "id": "20141ec8",
   "metadata": {},
   "outputs": [],
   "source": [
    "import torch"
   ]
  },
  {
   "cell_type": "code",
   "execution_count": 1416,
   "id": "1f87d847",
   "metadata": {},
   "outputs": [],
   "source": [
    "# merubah data ke bentuk tensor lalu reshape ke bentuk view(-1)\n",
    "train_tensor = torch.FloatTensor(train_scale).view(-1)\n",
    "test_tensor = torch.FloatTensor(test_scale).view(-1)"
   ]
  },
  {
   "cell_type": "code",
   "execution_count": 1417,
   "id": "15186c40",
   "metadata": {},
   "outputs": [
    {
     "data": {
      "text/plain": [
       "tensor([-2.1134, -2.4678, -2.4996,  ..., -1.3995, -1.5553, -1.4248])"
      ]
     },
     "execution_count": 1417,
     "metadata": {},
     "output_type": "execute_result"
    }
   ],
   "source": [
    "train_tensor"
   ]
  },
  {
   "cell_type": "code",
   "execution_count": 1418,
   "id": "9dccd8ae",
   "metadata": {},
   "outputs": [
    {
     "data": {
      "text/plain": [
       "tensor([-2.1134, -2.4678, -2.4996, -2.2952, -2.6586, -2.5223, -2.5223, -2.2692,\n",
       "        -1.5683, -1.9771, -1.3346, -1.5683, -1.3184, -1.7273, -1.4709, -1.5910,\n",
       "        -1.2275, -1.5910, -1.7727, -1.9382])"
      ]
     },
     "execution_count": 1418,
     "metadata": {},
     "output_type": "execute_result"
    }
   ],
   "source": [
    "train_tensor[:20]"
   ]
  },
  {
   "cell_type": "markdown",
   "id": "4f64de17",
   "metadata": {},
   "source": [
    "#### Dataset\n",
    "Karena RNN memanfaatkan informasi sequential dari data kita, kita perlu memecah bentuknya menjadi kelompok-kelompok data. Hal ini akan kita lakukan menggunakan fungsi custom di bawah ini. "
   ]
  },
  {
   "cell_type": "code",
   "execution_count": 1419,
   "id": "82436fdb",
   "metadata": {
    "ExecuteTime": {
     "end_time": "2023-02-19T09:07:53.335392Z",
     "start_time": "2023-02-19T09:07:53.321036Z"
    }
   },
   "outputs": [],
   "source": [
    "# function for making sequential data\n",
    "def input_data(data, seq_size):\n",
    "    out = []\n",
    "    length = len(data)\n",
    "    \n",
    "    for i in range(length-seq_size):\n",
    "        feature = data[i : i+seq_size]\n",
    "        target = data[i+seq_size : i+seq_size+1]\n",
    "        out.append((feature, target))\n",
    "    \n",
    "    return out"
   ]
  },
  {
   "cell_type": "code",
   "execution_count": 1420,
   "id": "1a08f0f9",
   "metadata": {},
   "outputs": [],
   "source": [
    "# sebagai input di fungsi input_data\n",
    "seq_size = 12\n",
    "\n",
    "# apply fungsi custom ke data train dan test\n",
    "train_dataset = input_data(train_tensor, seq_size)\n",
    "test_dataset = input_data(test_tensor, seq_size)"
   ]
  },
  {
   "cell_type": "code",
   "execution_count": 1421,
   "id": "846f033c",
   "metadata": {
    "scrolled": true
   },
   "outputs": [
    {
     "data": {
      "text/plain": [
       "[(tensor([-2.1134, -2.4678, -2.4996, -2.2952, -2.6586, -2.5223, -2.5223, -2.2692,\n",
       "          -1.5683, -1.9771, -1.3346, -1.5683]),\n",
       "  tensor([-1.3184])),\n",
       " (tensor([-2.4678, -2.4996, -2.2952, -2.6586, -2.5223, -2.5223, -2.2692, -1.5683,\n",
       "          -1.9771, -1.3346, -1.5683, -1.3184]),\n",
       "  tensor([-1.7273]))]"
      ]
     },
     "execution_count": 1421,
     "metadata": {},
     "output_type": "execute_result"
    }
   ],
   "source": [
    "train_dataset[:2]"
   ]
  },
  {
   "cell_type": "code",
   "execution_count": 1422,
   "id": "324c14a2",
   "metadata": {},
   "outputs": [
    {
     "data": {
      "text/plain": [
       "1449"
      ]
     },
     "execution_count": 1422,
     "metadata": {},
     "output_type": "execute_result"
    }
   ],
   "source": [
    "len(train_dataset)"
   ]
  },
  {
   "cell_type": "code",
   "execution_count": 1423,
   "id": "6b114d23",
   "metadata": {},
   "outputs": [
    {
     "data": {
      "text/plain": [
       "102"
      ]
     },
     "execution_count": 1423,
     "metadata": {},
     "output_type": "execute_result"
    }
   ],
   "source": [
    "len(test_dataset)"
   ]
  },
  {
   "cell_type": "markdown",
   "id": "9027ce3f",
   "metadata": {},
   "source": [
    "#### Dataloader"
   ]
  },
  {
   "cell_type": "markdown",
   "id": "3e86d17a",
   "metadata": {},
   "source": [
    "Dari proses di atas, kita telah membuat data dengan bentuk feature dan label/target secara berpasangan. Data ini akan kita jadikan bentuk DataLoader yang nantinya akan menjadi input dari model PyTorch kita. Pada kasus ini ada beberapa parameter DataLoader yang harus kita tentukan:\n",
    "- dataset: data yang sudah diproses sebelumnya, dapat juga berupa PyTorch Dataset\n",
    "- batch_size: ukuran minibatch yang ingin digunakan\n",
    "- shuffle: pastikan bernilai **False** karena kasus time series"
   ]
  },
  {
   "cell_type": "code",
   "execution_count": 1424,
   "id": "b8bf9b2c",
   "metadata": {
    "ExecuteTime": {
     "end_time": "2023-02-19T09:12:02.537337Z",
     "start_time": "2023-02-19T09:12:02.525065Z"
    }
   },
   "outputs": [],
   "source": [
    "from torch.utils.data import DataLoader"
   ]
  },
  {
   "cell_type": "code",
   "execution_count": 1425,
   "id": "e3d88193",
   "metadata": {},
   "outputs": [],
   "source": [
    "# setting batch size\n",
    "bs = 9\n",
    "\n",
    "# buat DataLoader untuk data train dan test\n",
    "train_loader = DataLoader(train_dataset, batch_size=bs, shuffle=False)\n",
    "test_loader = DataLoader(test_dataset, batch_size=bs, shuffle=False)"
   ]
  },
  {
   "cell_type": "code",
   "execution_count": 1426,
   "id": "30a6d5f0",
   "metadata": {},
   "outputs": [
    {
     "data": {
      "text/plain": [
       "(tensor([-2.1134, -2.4678, -2.4996, -2.2952, -2.6586, -2.5223, -2.5223, -2.2692,\n",
       "         -1.5683, -1.9771, -1.3346, -1.5683]),\n",
       " tensor([-1.3184]))"
      ]
     },
     "execution_count": 1426,
     "metadata": {},
     "output_type": "execute_result"
    }
   ],
   "source": [
    "train_loader.dataset[0]"
   ]
  },
  {
   "cell_type": "markdown",
   "id": "ae4e8508",
   "metadata": {},
   "source": [
    "### Pembuatan Arsitektur\n",
    "\n",
    "Data yang akan digunakan pada model sudah selesai dibentuk, sekarang saatnya kita membangun arsitektur pada RNN yang akan digunakan. Pada bagian ini kita akan membangun class dengan nama RNN yang isinya mengambil beberapa informasi dari module yang disediakan PyTorch. Module ini dapat diakses melalui `nn.Module`. Oleh karena itu kita panggil `nn` dahulu menggunakan syntax di bawah ini.\n",
    "\n",
    "<!-- Pada class yang kita gunakan, terdapat 1 buah parameter bernama `num_layers`. Seperti namanya, num_layers disini menentukan jumlah hidden layers pada RNN cell kita. Untuk lebih lengkapnya berikut ilustrasi dari hidden layers pada RNN.\n",
    "\n",
    "<img src=\"https://static.packt-cdn.com/products/9781787121089/graphics/image_06_008.png\" width=\"80%\"> \n",
    "\n",
    "Jika kita menggunakan num_layers > 1 dan tidak menentukan ukuran dari hidden_size maka secara otomatis PyTorch akan menggunakan hidden_size yang sama untuk seluruh layer kita. Tetapi jika kita ingin menentukan hidden_size yang berbeda, berikut diskusi mengenai cara pembentukan arsitekturnya: [link diskusi](https://discuss.pytorch.org/t/putting-different-hidden-size-for-multi-layer-lstm/47846) \n",
    "-->\n",
    "\n",
    "<!--\n",
    "class RNN(nn.Module):\n",
    "    def __init__(self, input_size, output_size, hidden_size, num_layers):\n",
    "        super().__init__()\n",
    "        self.rnn = nn.RNN(input_size=input_size, \n",
    "                          hidden_size=hidden_size, \n",
    "                          num_layers=num_layers) # RNN block (input ke hidden)\n",
    "        self.fc = nn.Linear(hidden_size, output_size) # fully connected (hidden ke output)\n",
    "        \n",
    "    def forward(self, x, hidden):\n",
    "        x, hidden = self.rnn(x, hidden)\n",
    "        x = self.fc(x)\n",
    "        return x, hidden\n",
    "-->"
   ]
  },
  {
   "cell_type": "code",
   "execution_count": 1427,
   "id": "38b87ffd",
   "metadata": {
    "ExecuteTime": {
     "end_time": "2023-02-19T09:39:03.982780Z",
     "start_time": "2023-02-19T09:39:03.974406Z"
    }
   },
   "outputs": [],
   "source": [
    "from torch import nn"
   ]
  },
  {
   "cell_type": "markdown",
   "id": "38ae0597",
   "metadata": {},
   "source": [
    "Kita akan menggunakan skema seperti pada gambar di sebelah kanan, dimana terdapat layer input dan hidden (pada PyTorch keduanya sudah dirangkum oleh RNN block) serta output layer.\n",
    "<img src=\"assets/nn_vs_rnn.png\" width = \"70%\">"
   ]
  },
  {
   "cell_type": "code",
   "execution_count": 1428,
   "id": "82c27e72",
   "metadata": {},
   "outputs": [],
   "source": [
    "class RNN(nn.Module):\n",
    "    def __init__(self, input_size, output_size, hidden_size, num_layers):\n",
    "        super().__init__()\n",
    "        self.rnn = nn.RNN(\n",
    "            input_size = input_size,\n",
    "            hidden_size = hidden_size,\n",
    "            num_layers = num_layers\n",
    "        ) # RNN block\n",
    "        self.fc = nn.Linear(\n",
    "            in_features = hidden_size,\n",
    "            out_features = output_size\n",
    "        ) # fully connected layer\n",
    "        \n",
    "    def forward(self, x, hidden): # langkah feedforward\n",
    "        x, hidden = self.rnn(x, hidden)\n",
    "        x = self.fc(x)\n",
    "        \n",
    "        return x, hidden"
   ]
  },
  {
   "cell_type": "markdown",
   "id": "e5208ee9",
   "metadata": {},
   "source": [
    "### Persiapan training\n",
    "\n",
    "Dari class yang sudah dibentuk, terdapat beberapa input yang harus dimasukkan. Agar input terdokumentasi dengan baik maka sebaiknya kita simpan konfigurasinya ke dalam sebuah dictionary."
   ]
  },
  {
   "cell_type": "code",
   "execution_count": 1429,
   "id": "400d0d6f",
   "metadata": {},
   "outputs": [
    {
     "data": {
      "text/plain": [
       "12"
      ]
     },
     "execution_count": 1429,
     "metadata": {},
     "output_type": "execute_result"
    }
   ],
   "source": [
    "seq_size"
   ]
  },
  {
   "cell_type": "code",
   "execution_count": 1430,
   "id": "55a25e4c",
   "metadata": {},
   "outputs": [],
   "source": [
    "config = {\n",
    "    \"input_size\": seq_size, \n",
    "    \"output_size\": 1, \n",
    "    \"hidden_size\": 512, \n",
    "    \"num_layers\": 2\n",
    "}"
   ]
  },
  {
   "cell_type": "markdown",
   "id": "b2c8b360",
   "metadata": {},
   "source": [
    "Setelah menyiapkan konfigurasi, kita akan memasukkan setting yang sudah dilakukan ke dalam model."
   ]
  },
  {
   "cell_type": "code",
   "execution_count": 1431,
   "id": "a2b749d4",
   "metadata": {},
   "outputs": [],
   "source": [
    "# kunci randomness awal\n",
    "torch.manual_seed(2102)\n",
    "\n",
    "# buat model dan masukan konfigurasi\n",
    "model = RNN(\n",
    "    input_size = config[\"input_size\"], \n",
    "    output_size = config[\"output_size\"], \n",
    "    hidden_size = config[\"hidden_size\"], \n",
    "    num_layers = config[\"num_layers\"]\n",
    ")"
   ]
  },
  {
   "cell_type": "markdown",
   "id": "402b2fc4",
   "metadata": {},
   "source": [
    "Sifat model RNN sama seperti model Neural Network biasa, yaitu setelah model melakukan feedforward maka perlu dihitung loss-nya. Pada bagian ini kita akan menentukan perhitungan loss yang digunakan adalah `MSELoss()` dari `nn` yang merupakan perhitungan **Mean Squared Error** karena data target kita berupa angka. Dokumentasi lengkap terkait loss function pada PyTorch dapat dilihat melalui [link ini](https://pytorch.org/docs/stable/nn.html#loss-functions)."
   ]
  },
  {
   "cell_type": "code",
   "execution_count": 1432,
   "id": "8bed8ab9",
   "metadata": {},
   "outputs": [],
   "source": [
    "criterion = nn.MSELoss()"
   ]
  },
  {
   "cell_type": "markdown",
   "id": "de7e4c06",
   "metadata": {},
   "source": [
    "Setelah menentukan loss function yang digunakan, kita akan melakukan setting backpropagation dengan metode Stochastic Gradient Descent yang merupakan lanjutan dari metode Gradient Descent normal. Method untuk melakukkan setting ini terdapat pada module `optim` dari `torch`. Untuk mengakses optimizer Stochastic Gradient Descent kita akan menggunakan `optim.SGD()` dimana paramter yang perlu dimasukkan yaitu:\n",
    "- `params`: parameter pada model, lebih mudahnya kita tinggal menuliskan `model.parameters()` yaitu mengambil nilai yang sudah kita siapkan di atas\n",
    "- `lr`: learning rate"
   ]
  },
  {
   "cell_type": "code",
   "execution_count": 1433,
   "id": "45cf2dd0",
   "metadata": {
    "ExecuteTime": {
     "end_time": "2023-02-19T09:43:22.146536Z",
     "start_time": "2023-02-19T09:43:22.140734Z"
    }
   },
   "outputs": [],
   "source": [
    "from torch import optim"
   ]
  },
  {
   "cell_type": "code",
   "execution_count": 1434,
   "id": "081939c9",
   "metadata": {},
   "outputs": [],
   "source": [
    "optimizer = optim.SGD(params = model.parameters(), lr = 0.022)"
   ]
  },
  {
   "cell_type": "code",
   "execution_count": 1435,
   "id": "95454fc2",
   "metadata": {},
   "outputs": [
    {
     "data": {
      "text/plain": [
       "<bound method Module.parameters of RNN(\n",
       "  (rnn): RNN(12, 512, num_layers=2)\n",
       "  (fc): Linear(in_features=512, out_features=1, bias=True)\n",
       ")>"
      ]
     },
     "execution_count": 1435,
     "metadata": {},
     "output_type": "execute_result"
    }
   ],
   "source": [
    "model.parameters"
   ]
  },
  {
   "cell_type": "markdown",
   "id": "1ba9349f",
   "metadata": {},
   "source": [
    "### Training and Evaluation Loop\n",
    "\n",
    "Jika dilihat pada proses pembuatan model, kita tidak menentukan epoch atau jumlah iterasi yang kita inginkan padahal kasus Neural Network bergantung pada jumlah iterasi. Hal ini karena pada PyTorch kita harus menentukan sendiri fungsi looping untuk proses training maupun evaluasinya.\n",
    "\n",
    "<!--\n",
    "epochs = 100\n",
    "train_cost, test_cost = [], []\n",
    "\n",
    "for i in range(epochs):\n",
    "    # code for training\n",
    "    model.train() # set model ke train mode\n",
    "    cost = 0 # inisialisasi perhitungan cost\n",
    "    \n",
    "    for feature, target in train_loader:\n",
    "        output, hidden = model(feature, None) # feedforward\n",
    "        loss = criterion(output, target) # hitung loss per per feedforward (MSE)\n",
    "        loss.backward() # backpropagation\n",
    "        \n",
    "        optimizer.step() # update weight\n",
    "        optimizer.zero_grad() # reset optimizer (khusus pytorch)\n",
    "\n",
    "        # perhitungan loss total per minibatch (dikali jumlah data agar bisa dibagi dengan total data di akhir)\n",
    "        cost += loss.item() * feature.shape[0] \n",
    "        # .item() buat ambil skalar nilai \n",
    "    train_cost.append(cost / len(train_data)) # cost (MSE) per epoch dicatat\n",
    "    \n",
    "    # code for evaluation\n",
    "    with torch.no_grad(): # memastikan tidak terjadi perhitungan gradient\n",
    "        model.eval() # set model ke evaluation mode\n",
    "        cost = 0 # inisialisasi perhitungan cost\n",
    "        for feature, target in test_loader:\n",
    "            output, hidden = model(feature, None) # feedforward\n",
    "            loss = criterion(output, target) # hitung loss per feedforward\n",
    "\n",
    "            # data test ga backpropagation dan update weight nanti leakage\n",
    "\n",
    "            # perhitungan loss total per minibatch (dikali jumlah data agar bisa dibagi dengan rata2)\n",
    "            cost += loss.item() * feature.shape[0]\n",
    "        test_cost.append(cost / len(test_data)) # cost (MSE) per epoch dicatat\n",
    "    \n",
    "    print(f'\\rEpoch: {i+1}/{epochs} | train_cost: {train_cost[-1]:4f} | test_cost: {test_cost[-1]:4f}', end=' ')\n",
    "-->"
   ]
  },
  {
   "cell_type": "code",
   "execution_count": 1436,
   "id": "a77c6ae0",
   "metadata": {},
   "outputs": [
    {
     "data": {
      "text/plain": [
       "(tensor([-2.1134, -2.4678, -2.4996, -2.2952, -2.6586, -2.5223, -2.5223, -2.2692,\n",
       "         -1.5683, -1.9771, -1.3346, -1.5683]),\n",
       " tensor([-1.3184]))"
      ]
     },
     "execution_count": 1436,
     "metadata": {},
     "output_type": "execute_result"
    }
   ],
   "source": [
    "train_loader.dataset[0]"
   ]
  },
  {
   "cell_type": "code",
   "execution_count": 1437,
   "id": "c8041f60",
   "metadata": {},
   "outputs": [],
   "source": [
    "device = \"gpu\" if torch.cuda.is_available() else \"cpu\""
   ]
  },
  {
   "cell_type": "code",
   "execution_count": 1438,
   "id": "e8cc649c",
   "metadata": {
    "scrolled": true
   },
   "outputs": [
    {
     "data": {
      "text/plain": [
       "'cpu'"
      ]
     },
     "execution_count": 1438,
     "metadata": {},
     "output_type": "execute_result"
    }
   ],
   "source": [
    "device"
   ]
  },
  {
   "cell_type": "code",
   "execution_count": 1439,
   "id": "1528477e",
   "metadata": {
    "scrolled": true
   },
   "outputs": [
    {
     "name": "stdout",
     "output_type": "stream",
     "text": [
      "Epoch: 30/30 | train_cost: 0.048697 | test_cost: 0.058347 "
     ]
    }
   ],
   "source": [
    "epochs = 30\n",
    "train_cost, test_cost = [], []\n",
    "\n",
    "for i in range(epochs):\n",
    "    # training\n",
    "    model.train()\n",
    "    cost = 0\n",
    "    for feature, target in train_loader: # iterasi untuk minibatch\n",
    "        # feedforward\n",
    "        output, hidden = model.forward(feature, None)\n",
    "        # hitung loss\n",
    "        loss = criterion(output, target)\n",
    "        # backpropagation\n",
    "        loss.backward()\n",
    "        # update weight\n",
    "        optimizer.step()\n",
    "        # reset optimizer (kasus khusus pada pytorch)\n",
    "        optimizer.zero_grad()\n",
    "        \n",
    "        # perhitungan loss total per minibatch (dikali jumlah data agar bisa dibagi dengan total data di akhir)\n",
    "        cost += loss.item() * feature.shape[0] \n",
    "        # .item() buat ambil skalar nilai \n",
    "    train_cost.append(cost / len(train_dataset)) # cost (MSE) per epoch dicatat\n",
    "    \n",
    "    # evaluasi\n",
    "    with torch.no_grad(): # memastikan tidak terjadi perhitungan gradient\n",
    "        model.eval()\n",
    "        cost = 0\n",
    "        for feature, target in test_loader:\n",
    "            # feedforward\n",
    "            output, hidden = model.forward(feature, None)\n",
    "            # hitung loss sebagai pembanding\n",
    "            loss = criterion(output, target)\n",
    "            # data test ga backpropagation dan update weight nanti leakage\n",
    "            \n",
    "            # perhitungan loss total per minibatch (dikali jumlah data agar bisa dibagi dengan rata2)\n",
    "            cost += loss.item() * feature.shape[0]\n",
    "        test_cost.append(cost / len(test_dataset)) # cost (MSE) per epoch dicatat\n",
    "\n",
    "    print(f'\\rEpoch: {i+1}/{epochs} | train_cost: {train_cost[-1]:4f} | test_cost: {test_cost[-1]:4f}', end=' ')"
   ]
  },
  {
   "cell_type": "markdown",
   "id": "80b3948d",
   "metadata": {},
   "source": [
    "Setelah training selesai, kita dapat melihat hasil evaluasi dengan melakukan plot loss data train dengan data test."
   ]
  },
  {
   "cell_type": "code",
   "execution_count": 1440,
   "id": "fb0fe601",
   "metadata": {
    "scrolled": false
   },
   "outputs": [
    {
     "data": {
      "text/plain": [
       "<matplotlib.legend.Legend at 0x7fdbf5e54a60>"
      ]
     },
     "execution_count": 1440,
     "metadata": {},
     "output_type": "execute_result"
    },
    {
     "data": {
      "image/png": "[encoded data removed]",
      "text/plain": [
       "<Figure size 640x480 with 1 Axes>"
      ]
     },
     "metadata": {},
     "output_type": "display_data"
    }
   ],
   "source": [
    "plt.plot(train_cost, label = \"train\")\n",
    "plt.plot(test_cost, label = \"test\")\n",
    "\n",
    "plt.xlabel(\"epoch\")\n",
    "plt.ylabel(\"cost\")\n",
    "plt.legend()"
   ]
  },
  {
   "cell_type": "markdown",
   "id": "1118c769",
   "metadata": {},
   "source": [
    "### Prediction/Forecast\n",
    "\n",
    "Dari hasil training, kita akan melakukan prediksi untuk waktu yang akan datang.\n",
    "\n",
    "<!-- \n",
    "preds, targets = [], []\n",
    "hidden = None\n",
    "last_inputs = None\n",
    "\n",
    "month = ___ # jumlah bulan yang akan diprediksi\n",
    "\n",
    "with torch.no_grad():\n",
    "    model.eval() \n",
    "    for inputs, target in test_loader: \n",
    "        output, hidden = model(inputs, hidden)\n",
    "        preds += output.flatten().tolist()\n",
    "        targets += target.flatten().tolist()\n",
    "        last_inputs = inputs\n",
    "\n",
    "    n_forecast = int(np.ceil(month/len(last_inputs))) # karena menggunakan minibatch, maka jumlah iterasi menyesuaikan\n",
    "\n",
    "    for i in range(int(n_forecast)):\n",
    "        # take last prediction result for new input\n",
    "        pred_inputs = (last_inputs[-1][1:]).tolist()\n",
    "        pred_inputs.append(preds[-1])\n",
    "        \n",
    "        # create new input format for models\n",
    "        forecast_inputs = last_inputs[1:].tolist()\n",
    "        forecast_inputs.append(pred_inputs)\n",
    "        forecast_inputs = torch.tensor(forecast_inputs)\n",
    "        \n",
    "        # forecast and saving the result\n",
    "        output, hidden = model(forecast_inputs, hidden)\n",
    "        last_inputs = forecast_inputs\n",
    "        preds += output.flatten().tolist()\n",
    "\n",
    "# inverse the result since we use scaling on our data\n",
    "preds = scaler.inverse_transform(pd.DataFrame(preds))\n",
    "targets = scaler.inverse_transform(pd.DataFrame(targets)) \n",
    "-->\n",
    "\n",
    "<!-- \n",
    "# Plot the predicted and actual values\n",
    "plt.figure(figsize=(15,5))\n",
    "plt.plot(targets, label='Actual')\n",
    "plt.plot(preds, label='Predicted')\n",
    "\n",
    "plt.axvline(len(test_dataset), color='k', linestyle=\"--\", linewidth=1)\n",
    "plt.axvline(len(test_dataset) + n_forecast*len(last_inputs), color='k', linestyle=\"--\", linewidth=1)\n",
    "\n",
    "plt.legend()\n",
    "plt.show()\n",
    " -->"
   ]
  },
  {
   "cell_type": "code",
   "execution_count": 1441,
   "id": "e358036d",
   "metadata": {},
   "outputs": [],
   "source": [
    "preds, targets = [], []\n",
    "hidden = None\n",
    "last_inputs = None\n",
    "\n",
    "month = 48 # jumlah bulan yang akan diprediksi\n",
    "\n",
    "with torch.no_grad():\n",
    "    model.eval() \n",
    "    for inputs, target in test_loader: \n",
    "        output, hidden = model(inputs, hidden)\n",
    "        preds += output.flatten().tolist()\n",
    "        targets += target.flatten().tolist()\n",
    "        last_inputs = inputs\n",
    "\n",
    "    n_forecast = int(np.ceil(month/len(last_inputs))) # karena menggunakan minibatch, maka jumlah iterasi menyesuaikan\n",
    "\n",
    "    for i in range(int(n_forecast)):\n",
    "        # take last prediction result for new input\n",
    "        pred_inputs = (last_inputs[-1][1:]).tolist()\n",
    "        pred_inputs.append(preds[-1])\n",
    "        \n",
    "        # create new input format for models\n",
    "        forecast_inputs = last_inputs[1:].tolist()\n",
    "        forecast_inputs.append(pred_inputs)\n",
    "        forecast_inputs = torch.tensor(forecast_inputs)\n",
    "        \n",
    "        # forecast and saving the result\n",
    "        output, hidden = model(forecast_inputs, hidden)\n",
    "        last_inputs = forecast_inputs\n",
    "        preds += output.flatten().tolist()\n",
    "\n",
    "# inverse the result since we use scaling on our data\n",
    "preds = scaler.inverse_transform(pd.DataFrame(preds))\n",
    "targets = scaler.inverse_transform(pd.DataFrame(targets))"
   ]
  },
  {
   "cell_type": "code",
   "execution_count": 1442,
   "id": "4d3b37a0",
   "metadata": {},
   "outputs": [
    {
     "data": {
      "image/png": "[encoded data removed]",
      "text/plain": [
       "<Figure size 1500x500 with 1 Axes>"
      ]
     },
     "metadata": {},
     "output_type": "display_data"
    }
   ],
   "source": [
    "# Plot the predicted and actual values\n",
    "plt.figure(figsize=(15,5))\n",
    "plt.plot(targets, label='Actual')\n",
    "plt.plot(preds, label='Predicted')\n",
    "\n",
    "plt.axvline(len(test_dataset), color='k', linestyle=\"--\", linewidth=1)\n",
    "plt.axvline(len(test_dataset) + n_forecast*len(last_inputs), color='k', linestyle=\"--\", linewidth=1)\n",
    "\n",
    "plt.legend()\n",
    "plt.show()"
   ]
  },
  {
   "cell_type": "markdown",
   "id": "b9d1bad3",
   "metadata": {},
   "source": [
    "### Save Model\n",
    "\n",
    "Pada model deep learning, informasi yang akan disimpan ke dalam model adalah weight dari hidden layer pada epoch terakhir. Informasi weight ini dapat dilihat menggunakan method `.state_dict()` pada model kita. Setelah itu kita save menggunakan `torch.save()`."
   ]
  },
  {
   "cell_type": "code",
   "execution_count": 1443,
   "id": "4b944bdd",
   "metadata": {
    "scrolled": true
   },
   "outputs": [
    {
     "data": {
      "text/plain": [
       "OrderedDict([('rnn.weight_ih_l0',\n",
       "              tensor([[ 0.0161,  0.0327, -0.0058,  ...,  0.0368,  0.0248, -0.0249],\n",
       "                      [ 0.0137,  0.0405,  0.0198,  ...,  0.0161,  0.0404, -0.0463],\n",
       "                      [-0.0124,  0.0251, -0.0463,  ...,  0.0323,  0.0102,  0.0810],\n",
       "                      ...,\n",
       "                      [ 0.0036,  0.0272, -0.0315,  ..., -0.0195, -0.0408,  0.0043],\n",
       "                      [ 0.0200, -0.0554, -0.0416,  ..., -0.0597, -0.0187, -0.1183],\n",
       "                      [ 0.0279,  0.0035,  0.0431,  ..., -0.0012, -0.0165, -0.0195]])),\n",
       "             ('rnn.weight_hh_l0',\n",
       "              tensor([[ 0.0321, -0.0031, -0.0370,  ...,  0.0423, -0.0031, -0.0428],\n",
       "                      [ 0.0084,  0.0037, -0.0028,  ...,  0.0215, -0.0308,  0.0140],\n",
       "                      [ 0.0257, -0.0332, -0.0206,  ..., -0.0395,  0.0104, -0.0267],\n",
       "                      ...,\n",
       "                      [ 0.0236,  0.0359,  0.0309,  ..., -0.0448, -0.0003,  0.0263],\n",
       "                      [-0.0263,  0.0330,  0.0146,  ..., -0.0375,  0.0112,  0.0200],\n",
       "                      [ 0.0273, -0.0115,  0.0342,  ...,  0.0263,  0.0332, -0.0026]])),\n",
       "             ('rnn.bias_ih_l0',\n",
       "              tensor([-2.3074e-02, -2.8984e-02, -4.6791e-02, -4.0883e-02,  7.2308e-03,\n",
       "                       1.7412e-02, -2.3388e-02,  2.2473e-02, -2.1302e-02,  8.4641e-03,\n",
       "                       2.1283e-02, -2.2642e-03,  2.9950e-02,  1.2489e-02, -5.4852e-03,\n",
       "                      -3.7439e-02,  2.9101e-02, -3.8377e-02, -4.6479e-02,  2.4790e-02,\n",
       "                      -1.8352e-02, -3.4476e-02, -3.5052e-02,  1.0485e-02,  1.5840e-02,\n",
       "                       4.3475e-02,  3.1541e-02, -4.9583e-03,  2.6917e-02, -2.6207e-02,\n",
       "                      -1.5055e-02, -2.6235e-02,  1.1965e-02, -7.5766e-03,  2.6196e-03,\n",
       "                       3.8544e-02,  2.5965e-02,  8.6158e-03, -3.8384e-02, -8.6479e-03,\n",
       "                       3.3150e-02,  1.2006e-02,  1.9229e-02,  2.7181e-02,  1.1492e-02,\n",
       "                       4.0244e-02, -2.2687e-02, -7.5093e-03,  3.7850e-02, -9.4217e-03,\n",
       "                       2.3326e-02,  1.9270e-02, -1.0992e-02, -1.6099e-02,  2.6840e-02,\n",
       "                      -3.0085e-02, -5.9348e-03, -1.2042e-03, -1.6137e-02,  2.0319e-02,\n",
       "                      -2.5185e-02, -4.0587e-02, -5.9586e-03, -2.8216e-03,  2.4874e-02,\n",
       "                       2.5287e-03,  1.5612e-02, -2.7365e-02, -2.7509e-02,  3.7051e-03,\n",
       "                      -1.5123e-02,  8.2332e-03, -3.9452e-03, -3.5241e-02,  2.3414e-05,\n",
       "                       1.8674e-02, -2.2139e-02,  2.5050e-02, -6.0233e-03, -1.4990e-02,\n",
       "                       1.5187e-02,  2.8273e-03,  8.5718e-03, -2.4629e-02,  4.0854e-02,\n",
       "                       2.1240e-02, -8.3019e-03,  1.5590e-03,  3.2374e-02,  1.5526e-02,\n",
       "                       3.7914e-02, -2.8060e-02,  4.4603e-03, -1.1671e-02,  1.0719e-02,\n",
       "                      -1.5621e-02, -2.6470e-04, -2.3353e-02,  3.4219e-02, -3.7666e-03,\n",
       "                       2.2649e-02, -1.1102e-02,  3.7283e-02, -3.3519e-02,  1.4208e-02,\n",
       "                      -5.2728e-03,  1.6571e-02,  3.5309e-02, -4.2876e-02,  3.9571e-02,\n",
       "                      -3.4958e-02, -3.7319e-02, -2.2013e-02, -4.6083e-03,  2.6039e-02,\n",
       "                      -3.7960e-02, -3.2500e-03, -1.5244e-02, -1.4027e-02, -2.4328e-02,\n",
       "                      -3.7792e-02, -3.3849e-02,  9.3957e-03,  3.7569e-02, -1.8582e-02,\n",
       "                      -1.4948e-02,  2.6880e-02, -1.5468e-02,  1.4090e-02,  2.3657e-02,\n",
       "                      -1.6756e-02,  2.3645e-02,  9.5084e-03, -3.0260e-02,  5.7391e-03,\n",
       "                      -4.1909e-02, -1.7517e-02, -4.0984e-02, -2.5522e-02,  1.7376e-02,\n",
       "                      -1.6185e-02, -4.0902e-02,  2.3513e-02,  1.1252e-02, -2.9646e-03,\n",
       "                      -2.6354e-02,  2.9003e-03, -4.3309e-03,  2.8526e-02, -2.4670e-03,\n",
       "                      -2.9305e-02,  1.8800e-02,  3.1440e-02, -4.2422e-02, -9.4067e-03,\n",
       "                       4.1118e-02, -1.6564e-02,  3.8250e-03,  2.0041e-02,  3.4498e-02,\n",
       "                       3.5505e-02, -3.0692e-02,  1.1814e-02, -1.3184e-02,  1.0014e-02,\n",
       "                       3.7990e-02,  1.9068e-03, -2.5884e-02,  3.4246e-02,  3.9727e-02,\n",
       "                       6.9196e-03,  1.1155e-02, -1.7216e-02,  1.7810e-02,  4.6951e-02,\n",
       "                       2.9800e-03,  1.5966e-02, -4.0183e-02, -2.6850e-02,  2.8119e-02,\n",
       "                      -4.2656e-02,  2.8038e-02, -2.8303e-02,  3.1908e-02, -2.5605e-02,\n",
       "                       7.7355e-04, -1.1115e-02, -2.4627e-02,  2.8523e-02,  1.9876e-02,\n",
       "                      -2.7439e-02,  2.8397e-02,  2.3817e-02,  1.2278e-02,  1.6599e-02,\n",
       "                       8.0749e-03,  1.8783e-02, -2.2719e-02,  7.7201e-03,  4.7537e-02,\n",
       "                      -2.1790e-02,  1.5592e-02,  4.0043e-02,  2.5900e-03, -6.4649e-03,\n",
       "                       1.2571e-02,  3.6578e-02, -3.7438e-02,  3.8898e-02,  4.4486e-02,\n",
       "                      -3.3359e-02,  1.2558e-02, -4.1177e-02, -1.3187e-02,  1.2091e-02,\n",
       "                      -7.4295e-03,  3.9336e-02, -2.5034e-02, -3.7369e-02,  4.6188e-03,\n",
       "                       1.0380e-02,  3.2749e-02, -5.0906e-03, -1.6290e-02, -3.4461e-02,\n",
       "                      -1.0992e-02, -1.5953e-03, -1.6246e-03, -3.7659e-02,  1.2764e-02,\n",
       "                       2.2921e-03,  7.7075e-03,  4.2056e-03, -9.6180e-03,  3.6580e-02,\n",
       "                      -2.5336e-02, -3.0077e-02,  1.6698e-02, -3.1685e-02,  3.0350e-03,\n",
       "                       3.2516e-02,  3.0315e-02,  2.3814e-02, -4.0923e-02, -1.1916e-02,\n",
       "                       1.1326e-02, -4.1461e-02, -2.0564e-02, -2.2723e-02, -3.4404e-02,\n",
       "                       1.1399e-02,  2.8776e-02, -1.9306e-02,  1.9100e-02, -3.0298e-02,\n",
       "                      -3.5759e-02, -2.5218e-02,  3.4811e-02,  3.5234e-02, -1.3752e-05,\n",
       "                      -2.1738e-04, -4.6033e-02, -1.3231e-02,  9.4277e-03, -4.3617e-03,\n",
       "                       2.5545e-02,  5.1618e-03,  1.1272e-02, -1.2287e-02,  9.0503e-03,\n",
       "                      -2.7516e-02, -9.4857e-03, -3.8574e-02, -4.0003e-02,  8.5527e-04,\n",
       "                       1.9943e-02, -2.7727e-02,  1.6057e-02,  3.9803e-02, -1.0815e-02,\n",
       "                      -1.2317e-02,  3.6651e-02,  5.2660e-04,  2.4043e-02, -2.5911e-02,\n",
       "                       4.8890e-03,  4.3359e-03,  4.9416e-03, -8.6966e-03, -3.5042e-02,\n",
       "                       1.2113e-02,  7.3390e-03, -1.0353e-02,  3.3037e-02, -1.6991e-02,\n",
       "                      -1.7945e-02,  1.9237e-02, -2.8787e-02,  3.3050e-02,  1.0156e-02,\n",
       "                       4.5243e-02, -1.6178e-02,  2.9041e-02,  1.6240e-02,  4.4608e-03,\n",
       "                      -3.5791e-02, -2.5619e-04,  1.1717e-02,  3.2255e-02,  2.2538e-03,\n",
       "                      -3.7452e-05,  3.3817e-02, -3.7535e-02,  4.3672e-03, -1.1443e-02,\n",
       "                      -6.6115e-03,  2.8337e-02, -1.3515e-02,  2.3785e-02, -1.6271e-02,\n",
       "                       3.5805e-03,  1.5171e-02, -1.1758e-02, -8.8614e-03,  3.8037e-02,\n",
       "                      -1.0360e-02,  9.6965e-03, -5.5529e-03, -2.3740e-02,  3.7443e-03,\n",
       "                       6.3904e-03, -3.3737e-02,  3.2779e-03, -2.0777e-02, -3.7230e-02,\n",
       "                       3.4462e-02, -2.5020e-02, -2.6028e-02, -3.8784e-02,  1.8101e-04,\n",
       "                       3.2756e-02, -2.7868e-02,  3.8729e-02, -2.4960e-03, -1.3478e-02,\n",
       "                       1.7386e-02,  3.5885e-02,  1.8792e-02,  1.7047e-02,  2.5546e-02,\n",
       "                      -3.9720e-02, -1.0355e-02, -3.3857e-02, -1.6289e-02, -8.2556e-03,\n",
       "                      -3.1038e-02, -4.2046e-02,  4.4958e-02, -3.6648e-02,  7.3140e-03,\n",
       "                       3.9143e-03, -3.6720e-02, -4.0064e-02, -2.9270e-02,  3.5744e-02,\n",
       "                      -1.9724e-02, -2.7992e-02, -2.2067e-02, -3.1113e-02, -2.4672e-02,\n",
       "                      -3.0679e-02,  1.7903e-02, -2.5249e-02, -3.0740e-02,  2.2313e-02,\n",
       "                       1.3362e-02, -2.2742e-02,  3.8771e-02,  3.6735e-03,  3.5201e-02,\n",
       "                       1.2717e-03,  4.2295e-02, -2.4393e-02, -1.7745e-03, -3.0112e-02,\n",
       "                       2.8424e-02, -8.8089e-03,  4.4137e-02,  3.6639e-02, -3.8914e-02,\n",
       "                       8.6547e-03, -2.3980e-02, -4.1586e-02,  1.5233e-02, -3.9818e-02,\n",
       "                       5.8614e-05,  2.6392e-02, -3.6950e-02,  3.3241e-02,  1.1068e-02,\n",
       "                       2.4248e-02, -2.6848e-02,  2.8288e-02, -4.3441e-02,  2.7561e-02,\n",
       "                      -1.6385e-02,  4.0533e-02,  7.6396e-03,  2.5357e-03, -1.2387e-02,\n",
       "                       1.0274e-02, -3.8931e-02, -3.4828e-02, -4.1302e-02, -9.8739e-03,\n",
       "                      -9.6413e-04,  3.5120e-02,  1.6039e-02,  2.8273e-02, -3.1370e-02,\n",
       "                      -6.8207e-03, -9.0989e-03, -2.6469e-02,  5.6180e-03, -1.5697e-03,\n",
       "                      -3.3273e-02,  1.7860e-03, -4.2921e-02, -9.2227e-03,  3.2602e-02,\n",
       "                       3.5822e-02,  1.7180e-03,  3.1206e-02,  1.6044e-02, -1.0877e-03,\n",
       "                      -5.3851e-03, -2.8929e-02, -2.3067e-02,  2.3689e-03, -2.9892e-02,\n",
       "                      -2.4362e-02,  2.8622e-02, -2.0410e-02, -9.9218e-03, -1.8697e-02,\n",
       "                       2.4125e-02, -1.9010e-02, -1.5368e-02,  2.6061e-02, -1.8971e-02,\n",
       "                       2.8278e-02, -1.1399e-02,  1.3601e-02,  6.8394e-03, -2.7923e-02,\n",
       "                      -1.2312e-02,  4.3189e-03, -7.0116e-03, -6.3796e-03,  4.1276e-02,\n",
       "                       1.4155e-02,  3.7359e-02, -1.8210e-02,  1.8527e-02,  6.0493e-03,\n",
       "                      -2.4264e-02,  1.0118e-02, -3.4035e-02,  3.0687e-02, -9.5213e-03,\n",
       "                       4.5292e-02, -1.0763e-02, -3.0091e-03, -1.4528e-02,  4.2400e-02,\n",
       "                       1.1437e-02,  2.7369e-02,  3.9963e-02, -2.7847e-02,  1.9608e-02,\n",
       "                       2.8653e-02, -3.6480e-02, -9.5064e-03, -3.5418e-02, -2.8075e-02,\n",
       "                       2.6156e-03, -1.4365e-02, -6.1411e-03,  6.2218e-03, -3.8687e-02,\n",
       "                       3.6534e-02, -1.0504e-02,  9.6069e-03, -4.9427e-02, -2.2549e-02,\n",
       "                      -4.6537e-02,  1.9542e-02, -1.0721e-03,  7.7708e-03,  2.7438e-02,\n",
       "                      -1.3969e-02, -3.4781e-02, -3.8742e-02,  1.1097e-02,  7.8130e-04,\n",
       "                      -1.6953e-02,  2.8502e-02,  5.7345e-03,  4.1671e-02,  2.7432e-02,\n",
       "                      -5.6115e-02, -1.7232e-02])),\n",
       "             ('rnn.bias_hh_l0',\n",
       "              tensor([ 0.0299,  0.0022,  0.0247,  0.0121,  0.0298, -0.0314, -0.0332, -0.0275,\n",
       "                      -0.0075, -0.0041,  0.0186,  0.0357, -0.0394, -0.0404,  0.0339,  0.0339,\n",
       "                      -0.0159,  0.0337,  0.0102, -0.0127, -0.0377,  0.0369,  0.0272,  0.0265,\n",
       "                      -0.0092, -0.0304,  0.0185, -0.0345,  0.0115,  0.0049,  0.0459, -0.0164,\n",
       "                      -0.0355, -0.0405,  0.0305, -0.0265, -0.0301,  0.0272, -0.0012, -0.0077,\n",
       "                      -0.0151, -0.0247,  0.0409,  0.0022, -0.0026, -0.0213,  0.0206,  0.0216,\n",
       "                      -0.0221,  0.0315, -0.0098,  0.0168, -0.0184, -0.0026, -0.0364,  0.0429,\n",
       "                       0.0305, -0.0328, -0.0188,  0.0110,  0.0330,  0.0448, -0.0238,  0.0481,\n",
       "                       0.0315, -0.0237, -0.0184, -0.0177,  0.0304, -0.0087, -0.0167, -0.0063,\n",
       "                      -0.0038,  0.0348,  0.0391, -0.0009, -0.0328,  0.0291,  0.0440,  0.0221,\n",
       "                       0.0199, -0.0257,  0.0168, -0.0159, -0.0155,  0.0046, -0.0297, -0.0362,\n",
       "                       0.0302, -0.0013, -0.0051, -0.0431, -0.0238,  0.0104, -0.0277,  0.0290,\n",
       "                      -0.0312, -0.0089, -0.0343, -0.0027, -0.0018, -0.0017,  0.0436, -0.0182,\n",
       "                      -0.0309,  0.0209,  0.0142, -0.0450,  0.0025,  0.0043, -0.0170, -0.0305,\n",
       "                      -0.0442, -0.0402,  0.0062,  0.0171,  0.0337, -0.0169,  0.0413,  0.0115,\n",
       "                      -0.0391, -0.0043,  0.0161,  0.0326, -0.0097, -0.0288,  0.0378, -0.0349,\n",
       "                      -0.0015, -0.0224,  0.0257, -0.0359, -0.0336, -0.0206,  0.0236, -0.0339,\n",
       "                      -0.0084,  0.0195, -0.0292, -0.0087,  0.0058,  0.0401,  0.0336, -0.0244,\n",
       "                      -0.0246, -0.0062,  0.0172,  0.0017, -0.0292, -0.0321, -0.0033, -0.0295,\n",
       "                      -0.0166,  0.0013,  0.0365,  0.0423, -0.0323,  0.0063, -0.0048, -0.0059,\n",
       "                      -0.0174, -0.0258, -0.0439, -0.0386,  0.0371,  0.0426,  0.0255, -0.0223,\n",
       "                      -0.0026, -0.0408,  0.0259,  0.0043,  0.0260, -0.0263,  0.0334,  0.0191,\n",
       "                      -0.0287, -0.0318, -0.0090, -0.0047, -0.0333, -0.0004,  0.0135, -0.0150,\n",
       "                       0.0059,  0.0285,  0.0197,  0.0282, -0.0210, -0.0352, -0.0057,  0.0037,\n",
       "                       0.0156, -0.0372, -0.0139,  0.0276, -0.0122, -0.0249,  0.0063,  0.0141,\n",
       "                       0.0518, -0.0449, -0.0343, -0.0020,  0.0144,  0.0086,  0.0048,  0.0245,\n",
       "                       0.0004, -0.0334, -0.0216,  0.0073,  0.0401,  0.0292,  0.0366, -0.0237,\n",
       "                       0.0365,  0.0190,  0.0310, -0.0215, -0.0154,  0.0205, -0.0257, -0.0122,\n",
       "                      -0.0121, -0.0411, -0.0247,  0.0231, -0.0592, -0.0237, -0.0412,  0.0013,\n",
       "                      -0.0048, -0.0087, -0.0353,  0.0404,  0.0424,  0.0049,  0.0138,  0.0023,\n",
       "                       0.0196, -0.0406,  0.0070,  0.0242,  0.0113, -0.0323, -0.0125, -0.0062,\n",
       "                      -0.0272,  0.0065,  0.0256,  0.0008, -0.0047, -0.0179,  0.0058,  0.0288,\n",
       "                       0.0348, -0.0337,  0.0053,  0.0136, -0.0266,  0.0333, -0.0217, -0.0055,\n",
       "                       0.0026, -0.0317,  0.0068,  0.0336, -0.0301,  0.0229, -0.0228, -0.0316,\n",
       "                      -0.0370,  0.0296,  0.0040, -0.0312,  0.0431, -0.0035, -0.0207,  0.0238,\n",
       "                      -0.0308, -0.0198, -0.0115, -0.0372, -0.0206, -0.0295, -0.0057, -0.0338,\n",
       "                       0.0366, -0.0141,  0.0035,  0.0363,  0.0085,  0.0174,  0.0349, -0.0123,\n",
       "                      -0.0237,  0.0063, -0.0170, -0.0062, -0.0361,  0.0279,  0.0290,  0.0075,\n",
       "                      -0.0227, -0.0310,  0.0013, -0.0141,  0.0087, -0.0229,  0.0405,  0.0239,\n",
       "                       0.0222,  0.0057, -0.0409,  0.0152,  0.0198, -0.0289, -0.0272,  0.0144,\n",
       "                       0.0119,  0.0376,  0.0417, -0.0334, -0.0178,  0.0213,  0.0162,  0.0451,\n",
       "                      -0.0154,  0.0045,  0.0445, -0.0225,  0.0255, -0.0225, -0.0143, -0.0074,\n",
       "                      -0.0313, -0.0159, -0.0227,  0.0218, -0.0004, -0.0189, -0.0136, -0.0329,\n",
       "                       0.0164, -0.0307,  0.0047, -0.0217, -0.0186,  0.0104, -0.0080, -0.0236,\n",
       "                       0.0435,  0.0368,  0.0055,  0.0018, -0.0388,  0.0369,  0.0363,  0.0188,\n",
       "                       0.0069, -0.0289,  0.0270,  0.0151, -0.0282,  0.0373,  0.0181,  0.0334,\n",
       "                       0.0429, -0.0269,  0.0146, -0.0109,  0.0188, -0.0035,  0.0122,  0.0173,\n",
       "                      -0.0067,  0.0043,  0.0326, -0.0348,  0.0183,  0.0250,  0.0189,  0.0408,\n",
       "                      -0.0127, -0.0146, -0.0180, -0.0113, -0.0332,  0.0309,  0.0282,  0.0297,\n",
       "                      -0.0386, -0.0100, -0.0285, -0.0271, -0.0226, -0.0231,  0.0088,  0.0005,\n",
       "                       0.0058, -0.0086, -0.0315, -0.0005,  0.0166, -0.0165, -0.0078,  0.0133,\n",
       "                      -0.0018, -0.0261, -0.0011,  0.0243,  0.0319, -0.0141,  0.0371, -0.0100,\n",
       "                      -0.0260, -0.0083,  0.0394, -0.0116,  0.0412, -0.0229, -0.0332,  0.0270,\n",
       "                       0.0204, -0.0327,  0.0232, -0.0285,  0.0224,  0.0195,  0.0201, -0.0230,\n",
       "                       0.0155, -0.0380, -0.0357, -0.0318,  0.0021, -0.0158,  0.0365,  0.0164,\n",
       "                      -0.0404, -0.0184, -0.0340, -0.0125, -0.0163, -0.0225,  0.0407,  0.0412,\n",
       "                       0.0239, -0.0036,  0.0229, -0.0245,  0.0068, -0.0361,  0.0003, -0.0109,\n",
       "                       0.0033,  0.0216,  0.0139, -0.0035,  0.0049, -0.0168,  0.0464,  0.0318,\n",
       "                      -0.0171,  0.0059,  0.0436,  0.0234,  0.0439, -0.0304,  0.0307, -0.0169,\n",
       "                       0.0052,  0.0256, -0.0217,  0.0231, -0.0269,  0.0030, -0.0043,  0.0112,\n",
       "                      -0.0096,  0.0448,  0.0269, -0.0079,  0.0157, -0.0239, -0.0101,  0.0076,\n",
       "                      -0.0017, -0.0257, -0.0235,  0.0281,  0.0315, -0.0160, -0.0036, -0.0034,\n",
       "                      -0.0238, -0.0036,  0.0470, -0.0169,  0.0268, -0.0156,  0.0087,  0.0203,\n",
       "                      -0.0108,  0.0317, -0.0376,  0.0250, -0.0095,  0.0074,  0.0013, -0.0318])),\n",
       "             ('rnn.weight_ih_l1',\n",
       "              tensor([[ 0.0372, -0.0228, -0.0161,  ..., -0.0088,  0.0028,  0.0190],\n",
       "                      [ 0.0333, -0.0303,  0.0049,  ..., -0.0371, -0.0005,  0.0231],\n",
       "                      [ 0.0053, -0.0277, -0.0432,  ...,  0.0264,  0.0265,  0.0099],\n",
       "                      ...,\n",
       "                      [ 0.0012, -0.0145,  0.0099,  ...,  0.0151,  0.0192, -0.0300],\n",
       "                      [-0.0120,  0.0188,  0.0204,  ..., -0.0394, -0.0135, -0.0196],\n",
       "                      [ 0.0117,  0.0241, -0.0351,  ..., -0.0153, -0.0392,  0.0204]])),\n",
       "             ('rnn.weight_hh_l1',\n",
       "              tensor([[-0.0228,  0.0384, -0.0362,  ...,  0.0271,  0.0238,  0.0428],\n",
       "                      [ 0.0363, -0.0446, -0.0061,  ...,  0.0207,  0.0118, -0.0296],\n",
       "                      [ 0.0293,  0.0173, -0.0107,  ..., -0.0123, -0.0148,  0.0310],\n",
       "                      ...,\n",
       "                      [ 0.0050,  0.0435, -0.0440,  ..., -0.0249,  0.0209,  0.0252],\n",
       "                      [ 0.0136,  0.0400,  0.0254,  ...,  0.0182,  0.0305,  0.0103],\n",
       "                      [-0.0337,  0.0108,  0.0023,  ..., -0.0418, -0.0403, -0.0446]])),\n",
       "             ('rnn.bias_ih_l1',\n",
       "              tensor([-0.0198,  0.0133,  0.0385, -0.0055, -0.0228, -0.0127, -0.0149, -0.0407,\n",
       "                      -0.0050, -0.0038, -0.0312,  0.0095, -0.0210, -0.0367,  0.0140,  0.0148,\n",
       "                      -0.0306,  0.0349, -0.0207,  0.0152,  0.0258,  0.0107, -0.0327, -0.0294,\n",
       "                      -0.0197, -0.0320,  0.0067,  0.0348, -0.0332,  0.0336, -0.0117, -0.0199,\n",
       "                       0.0102, -0.0088,  0.0307,  0.0184,  0.0195, -0.0027,  0.0211, -0.0072,\n",
       "                      -0.0047, -0.0236,  0.0078, -0.0343, -0.0159,  0.0384, -0.0087, -0.0187,\n",
       "                       0.0239, -0.0344, -0.0103,  0.0339, -0.0194,  0.0340,  0.0004,  0.0469,\n",
       "                      -0.0128, -0.0348,  0.0261, -0.0345,  0.0319, -0.0103, -0.0072,  0.0004,\n",
       "                      -0.0179,  0.0029, -0.0060, -0.0255,  0.0219,  0.0062, -0.0110, -0.0030,\n",
       "                      -0.0246, -0.0170,  0.0432, -0.0342,  0.0261,  0.0157, -0.0207, -0.0302,\n",
       "                       0.0041, -0.0392,  0.0191, -0.0347,  0.0212,  0.0205, -0.0195,  0.0401,\n",
       "                      -0.0020, -0.0210,  0.0198, -0.0136, -0.0332, -0.0193, -0.0415,  0.0221,\n",
       "                       0.0195, -0.0341,  0.0394, -0.0468, -0.0086,  0.0124, -0.0025,  0.0385,\n",
       "                      -0.0355,  0.0042, -0.0076,  0.0247,  0.0087,  0.0136,  0.0077,  0.0060,\n",
       "                      -0.0427, -0.0030,  0.0367, -0.0353,  0.0225, -0.0363,  0.0311,  0.0304,\n",
       "                       0.0178, -0.0262,  0.0119, -0.0138, -0.0216,  0.0332, -0.0074, -0.0391,\n",
       "                       0.0342,  0.0116,  0.0201,  0.0057,  0.0133,  0.0036, -0.0079,  0.0229,\n",
       "                      -0.0098, -0.0057, -0.0371, -0.0311,  0.0491,  0.0210,  0.0074, -0.0245,\n",
       "                      -0.0309, -0.0262, -0.0184, -0.0147,  0.0120, -0.0132,  0.0307, -0.0255,\n",
       "                       0.0191,  0.0075,  0.0125, -0.0311,  0.0120, -0.0296, -0.0057, -0.0378,\n",
       "                       0.0126, -0.0259, -0.0186,  0.0124, -0.0350,  0.0242,  0.0449, -0.0178,\n",
       "                       0.0014, -0.0161,  0.0287, -0.0068,  0.0042, -0.0357,  0.0282, -0.0366,\n",
       "                      -0.0255, -0.0141, -0.0333, -0.0013, -0.0260,  0.0373, -0.0098, -0.0315,\n",
       "                       0.0058, -0.0319,  0.0135,  0.0376,  0.0253,  0.0329, -0.0385, -0.0046,\n",
       "                       0.0149,  0.0040, -0.0067,  0.0079, -0.0023,  0.0244,  0.0005, -0.0421,\n",
       "                       0.0049, -0.0216,  0.0381,  0.0300,  0.0199,  0.0266, -0.0252,  0.0086,\n",
       "                      -0.0175,  0.0184, -0.0166,  0.0017, -0.0439,  0.0083, -0.0007,  0.0379,\n",
       "                      -0.0258,  0.0113, -0.0210,  0.0130,  0.0107,  0.0281,  0.0289, -0.0312,\n",
       "                      -0.0221,  0.0209,  0.0010, -0.0167,  0.0288,  0.0308, -0.0229,  0.0322,\n",
       "                      -0.0170, -0.0376, -0.0352, -0.0003, -0.0064, -0.0286,  0.0245, -0.0229,\n",
       "                       0.0348,  0.0082,  0.0349,  0.0332,  0.0156,  0.0376,  0.0139, -0.0169,\n",
       "                       0.0213, -0.0075, -0.0047, -0.0329,  0.0124,  0.0095,  0.0081,  0.0160,\n",
       "                       0.0250, -0.0231, -0.0043,  0.0402, -0.0306,  0.0200,  0.0154,  0.0385,\n",
       "                      -0.0307,  0.0082, -0.0192,  0.0072, -0.0246, -0.0179, -0.0390,  0.0396,\n",
       "                       0.0242,  0.0003, -0.0334, -0.0227, -0.0066, -0.0145,  0.0330, -0.0001,\n",
       "                       0.0025,  0.0393,  0.0076,  0.0139,  0.0293, -0.0201,  0.0325,  0.0382,\n",
       "                       0.0267,  0.0336,  0.0018, -0.0265, -0.0229, -0.0084, -0.0088,  0.0012,\n",
       "                       0.0335, -0.0028,  0.0004, -0.0288, -0.0138,  0.0401, -0.0276, -0.0067,\n",
       "                       0.0060,  0.0200,  0.0066, -0.0245, -0.0127, -0.0094, -0.0415,  0.0114,\n",
       "                      -0.0066, -0.0221, -0.0115,  0.0130, -0.0098,  0.0358,  0.0099, -0.0211,\n",
       "                      -0.0280, -0.0219,  0.0150, -0.0185,  0.0175, -0.0204, -0.0167, -0.0146,\n",
       "                      -0.0427, -0.0268, -0.0096, -0.0051, -0.0048,  0.0167, -0.0297,  0.0341,\n",
       "                      -0.0128, -0.0243,  0.0100, -0.0380,  0.0358, -0.0198,  0.0180,  0.0178,\n",
       "                       0.0164, -0.0385,  0.0313, -0.0092,  0.0419, -0.0454,  0.0370,  0.0182,\n",
       "                       0.0121,  0.0218, -0.0238, -0.0296, -0.0175, -0.0335, -0.0306, -0.0252,\n",
       "                       0.0057,  0.0246, -0.0017,  0.0286, -0.0192,  0.0135,  0.0092, -0.0085,\n",
       "                      -0.0290,  0.0147,  0.0154, -0.0324,  0.0211, -0.0368,  0.0170, -0.0137,\n",
       "                       0.0098,  0.0041, -0.0057,  0.0390,  0.0402, -0.0038, -0.0059, -0.0264,\n",
       "                      -0.0485,  0.0302, -0.0210, -0.0248,  0.0001, -0.0274,  0.0212, -0.0217,\n",
       "                       0.0381, -0.0006,  0.0172, -0.0099,  0.0259, -0.0090, -0.0234, -0.0025,\n",
       "                       0.0224, -0.0270, -0.0110,  0.0096, -0.0109, -0.0296, -0.0227,  0.0066,\n",
       "                       0.0172,  0.0187,  0.0240, -0.0194,  0.0317, -0.0395,  0.0381, -0.0083,\n",
       "                       0.0064, -0.0478,  0.0329,  0.0110, -0.0318, -0.0336,  0.0053, -0.0253,\n",
       "                       0.0247, -0.0062,  0.0087, -0.0357, -0.0217, -0.0247,  0.0296,  0.0156,\n",
       "                       0.0334, -0.0361, -0.0166,  0.0264,  0.0144, -0.0052,  0.0270, -0.0009,\n",
       "                      -0.0316, -0.0286,  0.0147, -0.0180, -0.0122,  0.0279, -0.0327,  0.0375,\n",
       "                      -0.0178,  0.0323, -0.0294, -0.0328,  0.0095, -0.0087,  0.0357,  0.0008,\n",
       "                       0.0121,  0.0056, -0.0072,  0.0253, -0.0190, -0.0005, -0.0119,  0.0404,\n",
       "                      -0.0274, -0.0284, -0.0187,  0.0431,  0.0167,  0.0166,  0.0041, -0.0508,\n",
       "                       0.0396,  0.0379, -0.0036, -0.0334, -0.0087, -0.0361,  0.0291, -0.0030,\n",
       "                      -0.0390,  0.0112, -0.0019, -0.0151, -0.0222, -0.0435, -0.0057,  0.0267,\n",
       "                       0.0401,  0.0049,  0.0266, -0.0222, -0.0216, -0.0374,  0.0061,  0.0395,\n",
       "                       0.0156, -0.0355, -0.0229,  0.0263,  0.0241, -0.0173, -0.0159, -0.0186,\n",
       "                      -0.0270, -0.0363,  0.0035,  0.0007,  0.0241, -0.0046,  0.0225,  0.0032])),\n",
       "             ('rnn.bias_hh_l1',\n",
       "              tensor([-1.8353e-02, -2.3180e-02, -9.9151e-03,  2.0458e-02,  1.1799e-02,\n",
       "                      -4.0318e-02,  7.5225e-03,  3.5225e-02, -1.2354e-04,  2.2657e-02,\n",
       "                      -2.9258e-02, -2.9228e-02,  1.2380e-02,  9.9008e-03,  9.8345e-03,\n",
       "                      -2.8979e-03, -2.1676e-02,  3.4185e-02,  1.1376e-02,  2.0273e-02,\n",
       "                      -1.9127e-02, -5.8912e-03, -1.2155e-02, -2.7891e-02,  1.9799e-02,\n",
       "                      -2.5548e-02,  3.0426e-02,  2.7568e-02, -2.9141e-03,  3.1097e-03,\n",
       "                      -3.2225e-02,  1.7984e-02, -1.9851e-02, -4.0180e-02,  5.6838e-03,\n",
       "                       1.3930e-02, -1.3976e-02, -1.4505e-02, -3.6611e-02,  1.6631e-02,\n",
       "                      -2.6215e-02, -4.5823e-03,  5.0539e-03,  2.5955e-02, -2.6775e-03,\n",
       "                       3.4535e-02, -1.1338e-02, -9.9851e-03,  1.9106e-02, -3.2863e-02,\n",
       "                      -2.6938e-02, -1.2311e-02,  1.3837e-02,  2.1538e-02,  3.8839e-02,\n",
       "                      -3.5692e-02, -1.9849e-02, -2.3531e-03, -1.6745e-02,  1.3812e-02,\n",
       "                       3.0205e-02, -2.0157e-02,  7.7677e-03, -9.8562e-03, -1.0555e-02,\n",
       "                       3.7014e-02, -1.8566e-02,  2.8054e-02, -2.8044e-02,  2.5227e-02,\n",
       "                       2.3292e-02, -3.2023e-02,  2.0432e-02, -2.2927e-02, -3.9453e-02,\n",
       "                      -8.1918e-04,  2.1412e-02, -1.7039e-02,  2.9149e-02, -1.1368e-03,\n",
       "                       5.8409e-04,  3.4738e-02, -2.4360e-02, -3.5091e-02,  1.7355e-02,\n",
       "                       1.2445e-02, -2.5852e-02, -6.8967e-03, -9.3173e-03, -3.3935e-02,\n",
       "                       1.4391e-02,  3.1988e-02,  2.4379e-02,  1.9043e-03,  3.4719e-02,\n",
       "                       1.4295e-02, -4.3715e-03, -3.2048e-02, -1.1122e-02,  2.9790e-02,\n",
       "                      -3.7786e-02, -1.7841e-02,  3.1055e-02,  2.4886e-02,  1.5580e-02,\n",
       "                      -1.1318e-03,  3.2522e-02,  2.8740e-02, -4.7280e-03,  3.4764e-02,\n",
       "                      -1.2610e-02, -3.7985e-02, -3.6635e-04,  6.1199e-03, -2.6446e-02,\n",
       "                       2.4966e-02,  1.4862e-02,  2.9796e-02, -1.8523e-02,  5.1803e-03,\n",
       "                       2.2699e-02, -2.1667e-02,  2.2931e-03,  2.2643e-02,  1.6456e-02,\n",
       "                      -1.5121e-02, -2.0884e-02,  3.9299e-02,  2.0125e-03,  2.6359e-03,\n",
       "                       3.5856e-02, -1.0651e-03,  2.2661e-02,  1.7210e-02,  2.6167e-02,\n",
       "                       2.5242e-02,  1.1150e-03,  1.4047e-02, -2.0262e-02,  2.5867e-02,\n",
       "                      -2.8449e-02,  2.0115e-02, -2.1766e-02, -3.3234e-02,  3.3921e-02,\n",
       "                      -2.7852e-02,  1.2329e-02,  3.9451e-04,  1.2201e-02,  1.4022e-02,\n",
       "                      -2.3705e-02,  1.3739e-02, -1.6792e-02,  1.0974e-02,  5.6244e-03,\n",
       "                       3.0215e-02,  1.0565e-02,  1.5791e-02, -2.6488e-02,  2.0104e-02,\n",
       "                      -1.9992e-02, -8.4466e-03,  3.1898e-02,  1.9535e-02,  1.5988e-02,\n",
       "                       2.5302e-02, -1.2154e-02,  3.6747e-02, -2.4424e-02, -1.7457e-02,\n",
       "                      -3.3263e-02,  3.9203e-02, -1.4776e-02, -7.9208e-03, -3.9421e-02,\n",
       "                       4.2278e-02, -1.1059e-02,  3.1542e-02, -2.6118e-02, -2.9447e-02,\n",
       "                      -2.1550e-02, -1.5807e-02,  3.8236e-02,  1.7608e-02, -4.4469e-03,\n",
       "                       3.9359e-02, -8.6315e-03,  1.9450e-02, -3.6974e-02, -2.8037e-02,\n",
       "                       3.0232e-04,  1.4938e-02,  1.7277e-02, -9.7863e-04, -2.0385e-02,\n",
       "                       5.4512e-03, -3.0963e-02, -1.5298e-02, -4.3190e-02,  3.6389e-02,\n",
       "                      -1.9957e-02, -1.1994e-02,  4.1468e-02,  1.4517e-02,  3.6099e-02,\n",
       "                       8.6492e-03, -2.6804e-03,  9.7521e-03,  3.0734e-02, -3.6476e-02,\n",
       "                      -1.1917e-02, -8.6725e-03,  3.3971e-02, -1.3933e-02, -4.5708e-03,\n",
       "                      -2.0390e-03,  3.4361e-02,  2.8154e-02, -2.8897e-02,  9.3109e-03,\n",
       "                      -1.6537e-02, -4.0469e-02, -1.4390e-02,  3.5917e-02,  3.2408e-02,\n",
       "                      -3.7506e-03, -2.7475e-02, -2.9907e-03, -2.4177e-02, -3.7968e-02,\n",
       "                      -1.5623e-02,  2.5857e-02, -1.6049e-02, -2.5064e-02,  1.7651e-02,\n",
       "                      -3.3386e-02, -2.4082e-02, -6.6693e-03, -1.7024e-02, -1.6131e-02,\n",
       "                      -3.9192e-02,  2.5882e-02,  3.2184e-02,  2.3081e-02, -4.5457e-02,\n",
       "                      -3.5755e-02,  2.6884e-03,  5.3975e-03, -2.4385e-02,  3.7060e-02,\n",
       "                      -3.8316e-03, -1.9061e-02, -4.7562e-02, -2.7294e-02, -6.3741e-03,\n",
       "                      -1.0230e-03,  4.7929e-03, -3.0564e-02,  3.2833e-02, -1.8436e-02,\n",
       "                      -2.7057e-02,  1.9553e-02, -4.6084e-02, -2.0432e-02, -1.7196e-02,\n",
       "                      -1.4687e-02,  3.6602e-02, -5.4055e-03,  2.1082e-02,  1.5992e-02,\n",
       "                      -3.2668e-02,  8.0271e-03,  3.0703e-02, -4.5163e-03, -2.3891e-02,\n",
       "                      -1.9201e-03, -3.3142e-02,  2.9376e-02, -3.7886e-03,  2.9884e-02,\n",
       "                       1.0743e-02, -2.9630e-02, -2.1877e-02,  2.8769e-02,  1.6320e-02,\n",
       "                      -3.7634e-03, -3.0525e-02,  1.2788e-02, -3.9499e-02, -4.2237e-02,\n",
       "                      -1.2790e-02,  2.4084e-03,  1.8680e-02, -3.9166e-02,  1.1620e-02,\n",
       "                       2.9691e-02, -3.5720e-03, -2.6825e-02, -4.1827e-02, -1.8208e-02,\n",
       "                      -1.8476e-02, -2.1152e-02, -1.0995e-02, -2.9803e-02, -1.4743e-02,\n",
       "                      -2.8889e-02, -4.1378e-02,  2.5374e-02, -1.9454e-02, -2.3387e-02,\n",
       "                       3.1470e-05,  4.1816e-03,  2.1678e-03,  3.5384e-02, -1.0201e-02,\n",
       "                       1.7107e-02, -3.7567e-02, -5.9859e-03, -6.8836e-03,  3.1700e-02,\n",
       "                      -3.1126e-02, -2.9107e-02, -4.2556e-03, -3.6992e-02,  1.8464e-02,\n",
       "                       7.9817e-03,  3.0633e-02, -2.2437e-02, -7.5394e-04,  2.7418e-02,\n",
       "                       5.9818e-03,  2.6899e-02,  3.6255e-02, -3.4875e-02,  2.6779e-02,\n",
       "                      -4.3327e-02,  1.3103e-02, -3.5548e-03,  2.7387e-02, -2.8119e-02,\n",
       "                      -3.6195e-02,  3.2430e-02,  4.5261e-03, -1.9684e-02,  2.4544e-02,\n",
       "                      -3.0499e-02,  3.6655e-02,  6.6419e-03, -3.2369e-02, -1.5792e-02,\n",
       "                      -3.9480e-02,  3.6013e-02,  1.8103e-02, -2.6596e-02, -3.5037e-02,\n",
       "                      -1.7328e-02, -4.2832e-03,  2.8868e-02,  4.1192e-02,  2.3913e-02,\n",
       "                       1.4188e-02,  3.5206e-02,  2.7082e-02,  4.4430e-02,  1.1616e-02,\n",
       "                      -2.8988e-02, -3.6911e-02, -1.9738e-02, -5.7943e-03, -2.2687e-02,\n",
       "                       3.3853e-02,  2.5801e-02, -6.6710e-03,  5.7754e-03,  2.9669e-02,\n",
       "                      -4.2029e-02, -1.5470e-02,  3.1730e-02, -5.9065e-03,  5.5862e-03,\n",
       "                      -2.6863e-02,  1.8171e-04, -1.7110e-02,  8.5032e-03, -2.3551e-02,\n",
       "                      -3.5641e-02,  1.8403e-02,  9.5151e-03, -2.3254e-02, -6.7447e-03,\n",
       "                       2.1537e-02,  9.5347e-03, -1.5100e-02, -5.4718e-03, -3.2625e-02,\n",
       "                       1.7103e-02, -2.5692e-02, -3.6016e-02, -2.5258e-02, -2.5226e-03,\n",
       "                      -1.7868e-02, -2.2555e-02, -1.3282e-02,  3.6196e-02,  1.6085e-02,\n",
       "                      -1.3569e-02,  1.1543e-02, -3.6915e-02, -2.0795e-02,  4.1517e-02,\n",
       "                      -3.4344e-02, -2.4380e-02,  2.5281e-02,  3.5706e-02, -3.9760e-02,\n",
       "                      -2.6904e-03,  3.5751e-02,  3.7659e-02, -3.6780e-02,  5.9139e-03,\n",
       "                      -1.8236e-02, -2.0844e-02, -1.8937e-02, -2.9138e-02, -9.9230e-03,\n",
       "                       1.8315e-02, -2.0735e-02, -2.3134e-03, -2.5139e-02,  1.2986e-02,\n",
       "                       8.8056e-03, -1.5561e-02,  3.3554e-02,  2.1594e-02, -2.4844e-02,\n",
       "                       3.2388e-02,  1.8812e-02,  4.2184e-02, -1.8393e-02, -5.4886e-03,\n",
       "                       4.2809e-02,  1.7313e-02,  1.5927e-02,  3.5409e-02, -2.0579e-02,\n",
       "                       3.9484e-02, -1.4345e-02, -1.4509e-02, -1.8677e-02,  2.5839e-02,\n",
       "                       5.9168e-03, -2.3012e-02,  1.7311e-02, -2.6633e-02,  3.9177e-02,\n",
       "                      -7.7415e-03, -1.7253e-02,  7.9494e-03, -1.5818e-02, -3.1945e-02,\n",
       "                       9.9277e-03, -2.8977e-02, -8.5676e-03, -9.9427e-03, -2.4054e-02,\n",
       "                       8.9776e-03,  2.9805e-02, -1.7075e-03,  1.6234e-02, -1.4092e-02,\n",
       "                      -2.3123e-02,  2.5271e-02, -1.0352e-03,  4.9334e-03,  2.9445e-02,\n",
       "                       3.6747e-02,  3.3346e-02, -3.4377e-02, -1.2836e-02, -2.8613e-04,\n",
       "                      -2.5828e-02,  3.9720e-03, -5.2568e-03, -3.4828e-02, -8.1188e-04,\n",
       "                       2.1561e-02, -4.3083e-02, -2.1205e-02, -1.5753e-02, -1.9587e-02,\n",
       "                      -3.5871e-03, -2.0897e-02, -2.3142e-02,  2.6226e-02,  3.9902e-02,\n",
       "                       3.0076e-02, -6.0042e-03,  8.6119e-03, -4.0805e-02,  2.9049e-02,\n",
       "                       3.2175e-02, -1.1621e-02,  1.8006e-02,  8.5752e-03, -2.6090e-02,\n",
       "                       3.3206e-02,  2.3210e-02,  2.4516e-02, -2.5226e-02,  2.3890e-02,\n",
       "                       2.3024e-02,  8.1128e-03])),\n",
       "             ('fc.weight',\n",
       "              tensor([[-4.2719e-02, -3.8830e-03,  1.5253e-03, -2.0565e-02, -5.7859e-02,\n",
       "                        3.4156e-02,  2.2935e-02,  3.7862e-02,  2.6568e-02,  7.7612e-03,\n",
       "                       -1.0924e-02, -5.9312e-04,  3.1121e-02,  2.9299e-02,  8.6488e-03,\n",
       "                        9.5579e-03,  3.8841e-03,  1.2632e-03, -3.1961e-03, -4.1947e-02,\n",
       "                       -5.8094e-02,  1.3734e-02, -6.4634e-03, -8.7221e-03, -7.1677e-03,\n",
       "                       -5.6481e-02, -4.1714e-02,  3.4164e-02,  7.7627e-02,  5.0177e-02,\n",
       "                       -5.2542e-03, -7.9001e-04,  9.6161e-03,  3.1526e-02,  2.5608e-02,\n",
       "                        5.4639e-03,  2.8610e-02, -8.5455e-03, -1.9765e-02,  3.0370e-02,\n",
       "                       -6.4161e-02,  7.0024e-03,  1.4934e-02, -1.7018e-03,  3.2058e-03,\n",
       "                       -1.9312e-02, -1.4486e-02, -4.9551e-02, -6.5832e-02,  4.4433e-02,\n",
       "                        5.4689e-03, -1.1885e-02,  1.1953e-03, -4.2407e-02,  3.1747e-02,\n",
       "                       -8.5975e-03, -1.2690e-02,  1.7750e-02, -2.6510e-02,  4.9966e-02,\n",
       "                        1.6886e-02,  8.2146e-03, -1.3196e-02,  8.8554e-03, -4.2018e-02,\n",
       "                       -3.4453e-02, -6.5720e-02,  2.1627e-02,  5.5502e-02,  4.4794e-03,\n",
       "                        1.3146e-02, -5.1858e-02, -4.6887e-03, -2.3297e-02, -3.4649e-02,\n",
       "                       -4.9824e-02, -2.0028e-02, -1.1859e-02,  2.0961e-02, -3.2206e-02,\n",
       "                        5.2785e-02, -3.1576e-02,  5.6821e-03, -1.4509e-02, -4.6090e-02,\n",
       "                        2.1234e-02,  2.0356e-02, -2.8050e-02,  1.3091e-02, -2.2447e-02,\n",
       "                       -1.0389e-02,  3.0427e-02, -4.9568e-03, -3.3181e-02, -1.0614e-02,\n",
       "                       -3.1140e-02,  5.0907e-02, -1.9480e-02, -1.1437e-02, -5.3563e-03,\n",
       "                        8.8241e-04, -4.3644e-02, -3.5685e-02,  6.8055e-03,  2.1201e-02,\n",
       "                       -5.4008e-02,  1.7921e-02, -4.7556e-02,  1.3179e-02,  6.3963e-03,\n",
       "                        1.2680e-02,  7.7454e-02,  6.4887e-02, -4.9152e-02, -1.3005e-02,\n",
       "                       -6.3206e-02, -6.7892e-03,  5.3524e-02, -1.6084e-02, -5.1637e-02,\n",
       "                       -4.7142e-02, -2.1491e-02,  5.2343e-02,  1.1991e-02, -7.8589e-03,\n",
       "                       -2.7375e-02,  3.8540e-02,  3.6170e-02, -3.2574e-02,  2.6611e-02,\n",
       "                       -1.5418e-02, -7.6145e-03, -1.3074e-02,  4.1619e-02,  1.7030e-02,\n",
       "                       -2.1252e-02,  2.7509e-02, -1.0022e-02,  3.4962e-02,  2.0507e-02,\n",
       "                        2.6050e-02,  9.7118e-03,  3.7020e-02,  4.6284e-03,  9.2240e-03,\n",
       "                        5.7289e-02,  3.0835e-03, -6.0771e-04, -3.2011e-02, -6.7831e-03,\n",
       "                        3.9278e-02, -1.5850e-02,  1.8681e-02, -1.7646e-02, -1.1968e-02,\n",
       "                        7.3417e-02, -7.6066e-03,  5.7348e-03, -2.3841e-02,  3.2475e-03,\n",
       "                       -5.9732e-02,  2.2001e-02, -2.1297e-02,  3.8332e-02, -3.5669e-02,\n",
       "                        5.8641e-02,  1.9243e-02,  2.1938e-02, -2.0189e-02,  1.5282e-02,\n",
       "                       -3.0368e-03, -4.3723e-02,  3.4201e-02, -1.0889e-03, -1.3724e-02,\n",
       "                       -4.5129e-02,  2.1450e-02, -1.7942e-02, -5.4500e-02,  4.7679e-02,\n",
       "                        1.3613e-02, -1.6469e-02, -3.5717e-02, -1.2913e-02,  1.9537e-02,\n",
       "                       -3.4035e-02, -3.6071e-02, -2.6998e-02,  7.7339e-02, -1.2180e-02,\n",
       "                       -3.4401e-02,  2.1359e-02,  5.0440e-03, -5.4011e-02,  4.7061e-02,\n",
       "                        2.7252e-02,  4.6528e-04, -1.2031e-02,  1.5297e-02, -3.8722e-02,\n",
       "                       -1.5175e-02, -3.5587e-02,  4.7322e-02, -8.3338e-02, -2.0477e-02,\n",
       "                        5.2350e-02,  4.0064e-02,  7.6454e-05,  4.4671e-02,  4.5599e-02,\n",
       "                       -2.3779e-02,  2.2169e-02,  2.0976e-02, -4.0590e-02,  2.6272e-02,\n",
       "                       -7.8939e-02,  7.6982e-03,  6.1952e-02, -1.6734e-02,  5.4142e-02,\n",
       "                        5.0689e-02,  1.8913e-02,  6.9425e-02, -3.7839e-03, -1.4700e-02,\n",
       "                       -2.3523e-02,  3.9844e-02, -2.8369e-02,  1.2867e-02,  5.1206e-02,\n",
       "                        2.7968e-03,  3.1176e-02,  9.5374e-03, -6.3955e-03, -7.7862e-03,\n",
       "                        8.9371e-03,  8.5897e-03,  6.1691e-02, -1.0368e-02, -1.8626e-02,\n",
       "                       -3.4973e-02, -3.2120e-02, -3.5132e-02, -3.3865e-02,  1.6756e-02,\n",
       "                       -3.2914e-02, -7.9694e-03, -5.5539e-02,  3.4917e-02, -1.9340e-04,\n",
       "                       -4.1546e-03, -4.6392e-02,  3.9071e-03, -2.6553e-02,  4.2111e-02,\n",
       "                        1.4501e-02, -4.1614e-02,  4.0161e-02, -2.2700e-02, -6.7642e-02,\n",
       "                        1.2763e-02, -3.4627e-02,  6.3457e-02,  1.1614e-02,  1.9058e-03,\n",
       "                        1.9176e-02, -2.2815e-03, -3.8349e-02,  4.2698e-02, -1.5694e-02,\n",
       "                        4.5361e-02, -1.3516e-02, -4.1676e-02, -1.5604e-02,  1.9702e-02,\n",
       "                       -1.6918e-02, -2.7369e-02, -1.8026e-02, -1.1808e-02, -1.5287e-02,\n",
       "                       -8.0477e-02, -6.4913e-02,  4.2199e-02, -6.2639e-02,  2.6308e-02,\n",
       "                        3.4012e-02, -1.2777e-02,  1.2948e-02, -1.1092e-02, -6.0750e-02,\n",
       "                       -5.1032e-02,  2.8013e-02,  3.1105e-02,  4.6273e-03, -5.7389e-02,\n",
       "                       -4.0403e-02,  3.0556e-02,  3.0485e-02,  6.5333e-02,  3.8552e-03,\n",
       "                       -3.2218e-02, -6.7669e-02, -1.6442e-02,  1.6967e-02, -2.2335e-02,\n",
       "                        1.3206e-02, -5.7261e-03,  9.3294e-03, -1.0144e-01, -1.8998e-02,\n",
       "                        1.4789e-02,  4.6588e-03,  3.1634e-02,  9.6103e-03, -3.4911e-02,\n",
       "                       -2.0074e-02,  2.2472e-02,  2.8475e-02, -4.9780e-03, -4.1024e-02,\n",
       "                        1.7598e-02, -3.6944e-03, -3.1535e-02, -1.9852e-02, -9.9112e-03,\n",
       "                       -2.0032e-02, -3.5977e-02,  6.1139e-03,  3.5353e-02, -1.6086e-02,\n",
       "                       -5.1653e-02,  1.6657e-02,  1.7379e-02, -4.2667e-02,  3.8955e-02,\n",
       "                        1.3271e-02, -4.3004e-02, -2.7500e-03,  6.1589e-02,  2.1556e-02,\n",
       "                       -7.2793e-04,  3.9688e-02,  1.9896e-02,  4.6537e-02, -1.6142e-02,\n",
       "                        1.9331e-03, -3.4337e-02,  6.5129e-02, -5.8656e-02,  6.5608e-02,\n",
       "                        1.3727e-02, -2.1255e-02,  4.6205e-02,  3.7304e-02, -2.5352e-02,\n",
       "                        4.6749e-02, -2.7018e-02, -6.9360e-02, -2.6326e-02, -4.5961e-03,\n",
       "                       -4.7413e-02, -2.5812e-02,  3.2964e-02,  5.4807e-03,  4.6851e-02,\n",
       "                       -1.5880e-02, -2.2630e-02,  3.3415e-02, -1.8586e-02, -2.9777e-02,\n",
       "                       -6.4225e-03, -1.7785e-03,  5.8569e-03, -5.2375e-02, -2.3428e-02,\n",
       "                       -4.1113e-02,  7.2215e-03, -4.0628e-02, -1.9318e-02, -5.7625e-02,\n",
       "                        6.2170e-02,  2.1739e-02, -3.3164e-03, -5.0524e-02, -4.8920e-04,\n",
       "                       -1.2754e-02, -2.4304e-02,  2.3644e-02, -8.1050e-03, -2.1035e-02,\n",
       "                       -8.3430e-02, -5.0825e-02, -4.3490e-02, -1.3140e-02, -3.0610e-02,\n",
       "                       -4.0639e-02,  3.3716e-02,  2.6460e-02,  5.5369e-02, -3.1969e-04,\n",
       "                       -3.2892e-02, -2.3976e-02, -4.5297e-02,  1.4079e-02, -2.4699e-02,\n",
       "                       -2.5925e-04,  2.5880e-02, -4.3465e-02,  3.4744e-02,  4.3562e-02,\n",
       "                       -9.1481e-05,  6.6162e-02,  2.1520e-02,  3.0016e-02, -2.0569e-02,\n",
       "                        3.1961e-02, -2.9108e-02,  1.1264e-02, -2.6322e-03, -5.3122e-02,\n",
       "                        1.2922e-02, -2.0987e-02,  1.8113e-02, -3.8554e-02, -7.1927e-02,\n",
       "                       -1.8244e-02, -2.9757e-02,  2.1683e-03,  8.2945e-04, -8.6556e-03,\n",
       "                       -1.7703e-02,  3.2922e-03, -1.0575e-02, -1.7455e-02, -2.9591e-02,\n",
       "                       -3.3847e-04, -4.6192e-02, -4.9113e-02, -7.2713e-03, -2.0594e-02,\n",
       "                       -1.3616e-02, -3.6836e-02,  2.6903e-02, -5.6721e-03,  2.7541e-02,\n",
       "                        3.4304e-02, -6.7965e-02,  6.0390e-04, -5.4073e-03, -1.0891e-02,\n",
       "                        4.9315e-02, -6.7785e-02,  2.0950e-02, -3.9369e-02, -4.8482e-02,\n",
       "                       -2.2703e-02,  2.4077e-02, -1.8955e-02,  2.6487e-02,  1.9311e-02,\n",
       "                       -2.7370e-02, -6.2590e-02, -4.7440e-02,  6.0653e-02, -2.7109e-04,\n",
       "                        3.4250e-02, -3.5955e-02,  3.7363e-03, -2.8220e-02,  1.5600e-02,\n",
       "                        8.0042e-03,  3.3063e-02, -4.1383e-02,  3.2378e-03, -1.4008e-02,\n",
       "                       -1.4130e-02,  4.1710e-02,  3.7967e-02,  5.4007e-02, -2.8378e-02,\n",
       "                       -1.5382e-02, -1.0054e-02,  8.8386e-03,  2.3410e-02, -3.7437e-02,\n",
       "                        8.9302e-02, -3.2366e-02,  5.5346e-02, -2.9948e-02, -7.7334e-02,\n",
       "                        5.0843e-02,  3.3046e-02, -2.8055e-02, -3.0943e-02, -4.6376e-02,\n",
       "                        8.5932e-03,  3.6932e-03, -8.1116e-05,  4.5332e-02, -6.2045e-03,\n",
       "                       -8.1928e-02,  2.2843e-02,  2.0807e-02,  5.8849e-02,  3.2529e-02,\n",
       "                       -2.2622e-03, -1.4017e-04, -2.1188e-02, -4.9753e-02,  1.5592e-03,\n",
       "                        7.9108e-03,  4.8867e-02]])),\n",
       "             ('fc.bias', tensor([-0.0735]))])"
      ]
     },
     "execution_count": 1443,
     "metadata": {},
     "output_type": "execute_result"
    }
   ],
   "source": [
    "model.state_dict()"
   ]
  },
  {
   "cell_type": "code",
   "execution_count": 1444,
   "id": "5e991acd",
   "metadata": {},
   "outputs": [],
   "source": [
    "import os\n",
    "os.makedirs(\"model\", exist_ok=True) # membuat folder model"
   ]
  },
  {
   "cell_type": "code",
   "execution_count": 1445,
   "id": "fe6d3adf",
   "metadata": {},
   "outputs": [],
   "source": [
    "torch.save(model.state_dict(), \"model/rnn_weight.pth\")"
   ]
  },
  {
   "cell_type": "markdown",
   "id": "fe6be2d5",
   "metadata": {},
   "source": [
    "Selain weight, informasi yang biasa disimpan adalah configuration dari model kita. Sama seperti sebelumnya kita bisa menggunakan `torch.save()` untuk variable `config`."
   ]
  },
  {
   "cell_type": "code",
   "execution_count": 1446,
   "id": "c48fbf1b",
   "metadata": {},
   "outputs": [],
   "source": [
    "torch.save(config, \"model/rnn_config.pth\")"
   ]
  },
  {
   "cell_type": "code",
   "execution_count": 1447,
   "id": "7273b64d",
   "metadata": {},
   "outputs": [
    {
     "data": {
      "text/plain": [
       "{'input_size': 12, 'output_size': 1, 'hidden_size': 512, 'num_layers': 2}"
      ]
     },
     "execution_count": 1447,
     "metadata": {},
     "output_type": "execute_result"
    }
   ],
   "source": [
    "config"
   ]
  },
  {
   "cell_type": "markdown",
   "id": "006dd5a8",
   "metadata": {},
   "source": [
    "### Load Model\n",
    "\n",
    "Pada bagian ini kita akan melakukan load model yang sudah disimpan tadi. Sebagai catatan, load model dapat dilakukan asalkan arsitektur model kita buat serupa."
   ]
  },
  {
   "cell_type": "code",
   "execution_count": 1448,
   "id": "22a29233",
   "metadata": {},
   "outputs": [],
   "source": [
    "# ambil arsitektur yang telah dibuat\n",
    "class RNN_Load(nn.Module):\n",
    "    def __init__(self, input_size, output_size, hidden_size, num_layers):\n",
    "        super().__init__()\n",
    "        self.rnn = nn.RNN(\n",
    "            input_size = input_size,\n",
    "            hidden_size = hidden_size,\n",
    "            num_layers = num_layers\n",
    "        ) # RNN block\n",
    "        self.fc = nn.Linear(\n",
    "            in_features = hidden_size,\n",
    "            out_features = output_size\n",
    "        ) # fully connected layer\n",
    "        \n",
    "    def forward(self, x, hidden): # langkah feedforward\n",
    "        x, hidden = self.rnn(x, hidden)\n",
    "        x = self.fc(x)\n",
    "        \n",
    "        return x, hidden"
   ]
  },
  {
   "cell_type": "markdown",
   "id": "c29a53c7",
   "metadata": {},
   "source": [
    "Load configuration serta weight dari file dapat menggunakan `torch.load()` lalu kita simpan ke dalam sebuah variable."
   ]
  },
  {
   "cell_type": "code",
   "execution_count": 1449,
   "id": "15ef6b0d",
   "metadata": {},
   "outputs": [],
   "source": [
    "config_load = torch.load(\"model/rnn_config.pth\")\n",
    "weight_load = torch.load(\"model/rnn_weight.pth\")"
   ]
  },
  {
   "cell_type": "code",
   "execution_count": 1450,
   "id": "0aa510fe",
   "metadata": {
    "scrolled": true
   },
   "outputs": [
    {
     "data": {
      "text/plain": [
       "{'input_size': 12, 'output_size': 1, 'hidden_size': 512, 'num_layers': 2}"
      ]
     },
     "execution_count": 1450,
     "metadata": {},
     "output_type": "execute_result"
    }
   ],
   "source": [
    "config_load"
   ]
  },
  {
   "cell_type": "markdown",
   "id": "cddb7d34",
   "metadata": {},
   "source": [
    "Load configuration kita masukkan secara manual, yaitu dengan mengambil value pada dictionary di object `weight_load`. Sementara untuk load weight, kita dapat menggunakan method `.load_state_dict()` pada model kita."
   ]
  },
  {
   "cell_type": "code",
   "execution_count": 1451,
   "id": "dfdd6694",
   "metadata": {},
   "outputs": [],
   "source": [
    "model_2 = RNN_Load(\n",
    "    input_size = config_load[\"input_size\"], \n",
    "    output_size = config_load[\"output_size\"], \n",
    "    hidden_size = config_load[\"hidden_size\"], \n",
    "    num_layers = config_load[\"num_layers\"]    \n",
    ")"
   ]
  },
  {
   "cell_type": "code",
   "execution_count": 1452,
   "id": "1627520e",
   "metadata": {},
   "outputs": [
    {
     "data": {
      "text/plain": [
       "<All keys matched successfully>"
      ]
     },
     "execution_count": 1452,
     "metadata": {},
     "output_type": "execute_result"
    }
   ],
   "source": [
    "model_2.load_state_dict(weight_load)"
   ]
  },
  {
   "cell_type": "code",
   "execution_count": 1453,
   "id": "f8e065de",
   "metadata": {},
   "outputs": [],
   "source": [
    "preds, targets = [], []\n",
    "hidden = None\n",
    "last_inputs = None\n",
    "\n",
    "month = 48 # jumlah bulan yang akan diprediksi\n",
    "\n",
    "with torch.no_grad():\n",
    "    model_2.eval() \n",
    "    for inputs, target in test_loader: \n",
    "        output, hidden = model_2(inputs, hidden)\n",
    "        preds += output.flatten().tolist()\n",
    "        targets += target.flatten().tolist()\n",
    "        last_inputs = inputs\n",
    "\n",
    "    n_forecast = int(np.ceil(month/len(last_inputs))) # karena menggunakan minibatch, maka jumlah iterasi menyesuaikan\n",
    "\n",
    "    for i in range(int(n_forecast)):\n",
    "        # take last prediction result for new input\n",
    "        pred_inputs = (last_inputs[-1][1:]).tolist()\n",
    "        pred_inputs.append(preds[-1])\n",
    "        \n",
    "        # create new input format for models\n",
    "        forecast_inputs = last_inputs[1:].tolist()\n",
    "        forecast_inputs.append(pred_inputs)\n",
    "        forecast_inputs = torch.tensor(forecast_inputs)\n",
    "        \n",
    "        # forecast and saving the result\n",
    "        output, hidden = model_2(forecast_inputs, hidden)\n",
    "        last_inputs = forecast_inputs\n",
    "        preds += output.flatten().tolist()\n",
    "\n",
    "# inverse the result since we use scaling on our data\n",
    "preds = scaler.inverse_transform(pd.DataFrame(preds))\n",
    "targets = scaler.inverse_transform(pd.DataFrame(targets))"
   ]
  },
  {
   "cell_type": "code",
   "execution_count": 1454,
   "id": "4412d837",
   "metadata": {},
   "outputs": [
    {
     "data": {
      "image/png": "[encoded data removed]",
      "text/plain": [
       "<Figure size 1500x500 with 1 Axes>"
      ]
     },
     "metadata": {},
     "output_type": "display_data"
    }
   ],
   "source": [
    "# Plot the predicted and actual values\n",
    "plt.figure(figsize=(15,5))\n",
    "plt.plot(targets, label='Actual')\n",
    "plt.plot(preds, label='Predicted')\n",
    "\n",
    "plt.axvline(len(test_dataset), color='k', linestyle=\"--\", linewidth=1)\n",
    "plt.axvline(len(test_dataset) + n_forecast*len(last_inputs), color='k', linestyle=\"--\", linewidth=1)\n",
    "\n",
    "plt.legend()\n",
    "plt.show()"
   ]
  },
  {
   "cell_type": "markdown",
   "id": "fce35ba4",
   "metadata": {},
   "source": [
    "## Penutup\n",
    "\n",
    "Pada kasus forecasting ini beberapa kali dilakukan tuning untuk mendapatkan model yang optimal. Kasus ini menggunakan:\n",
    "- Learning rate = 0.022\n",
    "- Epoch = 30\n",
    "- hidden_size = 512\n",
    "- num_layer = 2\n",
    "\n",
    "Hasilnya dirasa cukup optimal"
   ]
  }
 ],
 "metadata": {
  "kernelspec": {
   "display_name": "dss_tsfeb",
   "language": "python",
   "name": "dss_tsfeb"
  },
  "language_info": {
   "codemirror_mode": {
    "name": "ipython",
    "version": 3
   },
   "file_extension": ".py",
   "mimetype": "text/x-python",
   "name": "python",
   "nbconvert_exporter": "python",
   "pygments_lexer": "ipython3",
   "version": "3.10.9"
  },
  "toc": {
   "base_numbering": 1,
   "nav_menu": {},
   "number_sections": true,
   "sideBar": true,
   "skip_h1_title": false,
   "title_cell": "Table of Contents",
   "title_sidebar": "Contents",
   "toc_cell": false,
   "toc_position": {},
   "toc_section_display": true,
   "toc_window_display": false
  },
  "varInspector": {
   "cols": {
    "lenName": 16,
    "lenType": 16,
    "lenVar": 40
   },
   "kernels_config": {
    "python": {
     "delete_cmd_postfix": "",
     "delete_cmd_prefix": "del ",
     "library": "var_list.py",
     "varRefreshCmd": "print(var_dic_list())"
    },
    "r": {
     "delete_cmd_postfix": ") ",
     "delete_cmd_prefix": "rm(",
     "library": "var_list.r",
     "varRefreshCmd": "cat(var_dic_list()) "
    }
   },
   "types_to_exclude": [
    "module",
    "function",
    "builtin_function_or_method",
    "instance",
    "_Feature"
   ],
   "window_display": false
  }
 },
 "nbformat": 4,
 "nbformat_minor": 5
}
